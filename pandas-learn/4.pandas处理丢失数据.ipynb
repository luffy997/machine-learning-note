{
 "cells": [
  {
   "cell_type": "code",
   "execution_count": 10,
   "metadata": {
    "collapsed": true
   },
   "outputs": [
    {
     "data": {
      "text/plain": "False"
     },
     "execution_count": 10,
     "metadata": {},
     "output_type": "execute_result"
    }
   ],
   "source": [
    "import numpy as np\n",
    "import pandas as pd\n",
    "\n",
    "dates = np.arange(20170101,20170105)\n",
    "df1 = pd.DataFrame(np.arange(12).reshape(4,3),index=dates,columns=['A','B','C'])\n",
    "df1\n",
    "\n",
    "df2 =pd.DataFrame(df1,index=dates,columns=['A','B','C','D','E'])\n",
    "df2\n",
    "\n",
    "s1 = pd.Series([3,4,6],index=dates[:3])\n",
    "s2 = pd.Series([32,5,2],index=dates[1:])\n",
    "df2['D'] = s1\n",
    "df2['E'] = s2\n",
    "df2\n",
    "\n",
    "#去掉为空的一些行数\n",
    "#axis=[0,1] 0代表行，1代表列。how=[any,all] any任意一个  all全部\n",
    "df2.dropna(axis=0,how='any')\n",
    "\n",
    "#把空值赋值为0\n",
    "df2.fillna(value=0)\n",
    "\n",
    "#查看是不是空\n",
    "df2.isnull()\n",
    "\n",
    "#任意一个为空\n",
    "np.any(df2.isnull())\n",
    "#全部都是空\n",
    "np.all(df2.isnull())"
   ]
  }
 ],
 "metadata": {
  "kernelspec": {
   "display_name": "Python 3",
   "language": "python",
   "name": "python3"
  },
  "language_info": {
   "codemirror_mode": {
    "name": "ipython",
    "version": 2
   },
   "file_extension": ".py",
   "mimetype": "text/x-python",
   "name": "python",
   "nbconvert_exporter": "python",
   "pygments_lexer": "ipython2",
   "version": "2.7.6"
  }
 },
 "nbformat": 4,
 "nbformat_minor": 0
}