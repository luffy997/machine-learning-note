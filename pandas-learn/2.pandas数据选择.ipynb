{
 "cells": [
  {
   "cell_type": "code",
   "execution_count": 24,
   "metadata": {
    "collapsed": true
   },
   "outputs": [
    {
     "data": {
      "text/plain": "             A   B   C   D\n2017-01-03   8   9  10  11\n2017-01-04  12  13  14  15\n2017-01-05  16  17  18  19\n2017-01-06  20  21  22  23",
      "text/html": "<div>\n<style scoped>\n    .dataframe tbody tr th:only-of-type {\n        vertical-align: middle;\n    }\n\n    .dataframe tbody tr th {\n        vertical-align: top;\n    }\n\n    .dataframe thead th {\n        text-align: right;\n    }\n</style>\n<table border=\"1\" class=\"dataframe\">\n  <thead>\n    <tr style=\"text-align: right;\">\n      <th></th>\n      <th>A</th>\n      <th>B</th>\n      <th>C</th>\n      <th>D</th>\n    </tr>\n  </thead>\n  <tbody>\n    <tr>\n      <th>2017-01-03</th>\n      <td>8</td>\n      <td>9</td>\n      <td>10</td>\n      <td>11</td>\n    </tr>\n    <tr>\n      <th>2017-01-04</th>\n      <td>12</td>\n      <td>13</td>\n      <td>14</td>\n      <td>15</td>\n    </tr>\n    <tr>\n      <th>2017-01-05</th>\n      <td>16</td>\n      <td>17</td>\n      <td>18</td>\n      <td>19</td>\n    </tr>\n    <tr>\n      <th>2017-01-06</th>\n      <td>20</td>\n      <td>21</td>\n      <td>22</td>\n      <td>23</td>\n    </tr>\n  </tbody>\n</table>\n</div>"
     },
     "execution_count": 24,
     "metadata": {},
     "output_type": "execute_result"
    }
   ],
   "source": [
    "import numpy as np\n",
    "import pandas as pd\n",
    "\n",
    "dates = pd.date_range('20170101',periods=6)\n",
    "df1 = pd.DataFrame(np.arange(24).reshape(6,4),index=dates,columns=['A','B','C','D'])\n",
    "df1\n",
    "\n",
    "df1['A']\n",
    "df1.A\n",
    "\n",
    "#取0-1行\n",
    "df1[0:2]\n",
    "df1['20170103':'20170106']\n",
    "\n",
    "#通过标签选择数据\n",
    "df1.loc['20170102']\n",
    "df1.loc['20170101',['A','B','C']]\n",
    "\n",
    "#某几行某几列\n",
    "#逗号之前代表行，之后代表列\n",
    "df1.loc[:,['A','C']]\n",
    "df1.loc['20170103':,['A','C']]\n",
    "\n",
    "#通过位置选择\n",
    "df1.iloc[1:3,2:4]\n",
    "df1.iloc[[1,2,4],[1,3]]\n",
    "\n",
    "#混合位置标签选择\n",
    "# df1.ix[2:4,['A','C']]\n",
    "# df1.ix['20170102':'20170104',2:4]\n",
    "\n",
    "df1.A > 6\n",
    "\n",
    "df1[df1.A > 6]"
   ]
  }
 ],
 "metadata": {
  "kernelspec": {
   "display_name": "Python 3",
   "language": "python",
   "name": "python3"
  },
  "language_info": {
   "codemirror_mode": {
    "name": "ipython",
    "version": 2
   },
   "file_extension": ".py",
   "mimetype": "text/x-python",
   "name": "python",
   "nbconvert_exporter": "python",
   "pygments_lexer": "ipython2",
   "version": "2.7.6"
  }
 },
 "nbformat": 4,
 "nbformat_minor": 0
}