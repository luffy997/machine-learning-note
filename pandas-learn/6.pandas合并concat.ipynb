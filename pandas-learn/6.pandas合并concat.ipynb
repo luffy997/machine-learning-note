{
 "cells": [
  {
   "cell_type": "code",
   "execution_count": 12,
   "metadata": {
    "collapsed": true
   },
   "outputs": [
    {
     "name": "stdout",
     "output_type": "stream",
     "text": [
      "   a  b   c   f\n",
      "0  0  1   2   3\n",
      "1  4  5   6   7\n",
      "2  8  9  10  11\n",
      "    a   b   d   e\n",
      "0  12  13  14  15\n",
      "1  16  17  18  19\n",
      "2  20  21  22  23\n",
      "   a  b   c   f\n",
      "0  0  1   2   3\n",
      "1  4  5   6   7\n",
      "2  8  9  10  11\n",
      "    a   c   d\n",
      "0  12  13  14\n",
      "1  15  16  17\n",
      "2  18  19  20\n",
      "3  21  22  23\n"
     ]
    },
    {
     "data": {
      "text/plain": "     a    b     c     f   a   c   d\n0  0.0  1.0   2.0   3.0  12  13  14\n1  4.0  5.0   6.0   7.0  15  16  17\n2  8.0  9.0  10.0  11.0  18  19  20\n3  NaN  NaN   NaN   NaN  21  22  23",
      "text/html": "<div>\n<style scoped>\n    .dataframe tbody tr th:only-of-type {\n        vertical-align: middle;\n    }\n\n    .dataframe tbody tr th {\n        vertical-align: top;\n    }\n\n    .dataframe thead th {\n        text-align: right;\n    }\n</style>\n<table border=\"1\" class=\"dataframe\">\n  <thead>\n    <tr style=\"text-align: right;\">\n      <th></th>\n      <th>a</th>\n      <th>b</th>\n      <th>c</th>\n      <th>f</th>\n      <th>a</th>\n      <th>c</th>\n      <th>d</th>\n    </tr>\n  </thead>\n  <tbody>\n    <tr>\n      <th>0</th>\n      <td>0.0</td>\n      <td>1.0</td>\n      <td>2.0</td>\n      <td>3.0</td>\n      <td>12</td>\n      <td>13</td>\n      <td>14</td>\n    </tr>\n    <tr>\n      <th>1</th>\n      <td>4.0</td>\n      <td>5.0</td>\n      <td>6.0</td>\n      <td>7.0</td>\n      <td>15</td>\n      <td>16</td>\n      <td>17</td>\n    </tr>\n    <tr>\n      <th>2</th>\n      <td>8.0</td>\n      <td>9.0</td>\n      <td>10.0</td>\n      <td>11.0</td>\n      <td>18</td>\n      <td>19</td>\n      <td>20</td>\n    </tr>\n    <tr>\n      <th>3</th>\n      <td>NaN</td>\n      <td>NaN</td>\n      <td>NaN</td>\n      <td>NaN</td>\n      <td>21</td>\n      <td>22</td>\n      <td>23</td>\n    </tr>\n  </tbody>\n</table>\n</div>"
     },
     "execution_count": 12,
     "metadata": {},
     "output_type": "execute_result"
    }
   ],
   "source": [
    "import numpy as np\n",
    "import pandas as pd\n",
    "\n",
    "df1 = pd.DataFrame(np.arange(12).reshape(3,4),columns=['a','b','c','d'])\n",
    "df2 = pd.DataFrame(np.arange(12,24).reshape(3,4),columns=['a','b','c','d'])\n",
    "df3 = pd.DataFrame(np.arange(24,36).reshape(3,4),columns=['a','b','c','d'])\n",
    "# print(df1)\n",
    "# print(df2)\n",
    "# print(df3)\n",
    "\n",
    "#合并\n",
    "#,axis=0 纵向合并\n",
    "df4 = pd.concat([df1,df2,df3],axis=0)\n",
    "df4\n",
    "\n",
    "#纵向合并，不考虑原来的index\n",
    "df4 = pd.concat([df1,df2,df3],axis=0,ignore_index=True)\n",
    "df4\n",
    "\n",
    "#横向合并\n",
    "df5 = pd.concat([df1,df2,df3],axis=1)\n",
    "df5\n",
    "\n",
    "df1 = pd.DataFrame(np.arange(12).reshape(3,4),columns=['a','b','c','f'])\n",
    "df2 = pd.DataFrame(np.arange(12,24).reshape(3,4),columns=['a','b','d','e'])\n",
    "print(df1)\n",
    "print(df2)\n",
    "\n",
    "#join = outer 合并两个表缺少的部分填充null\n",
    "df6 = pd.concat([df1,df2],join='outer',ignore_index=True)\n",
    "df6\n",
    "\n",
    "#join='inner' 两个表缺少的部分 去掉\n",
    "df7 = pd.concat([df1,df2],join='inner',ignore_index=True)\n",
    "df7\n",
    "\n",
    "\n",
    "df1 = pd.DataFrame(np.arange(12).reshape(3,4),columns=['a','b','c','f'])\n",
    "df2 = pd.DataFrame(np.arange(12,24).reshape(4,3),columns=['a','c','d'])\n",
    "\n",
    "print(df1)\n",
    "print(df2)\n",
    "\n",
    "\n",
    "#横向合并的index,index使用df1的index\n",
    "# df8 = pd.concat([df1,df2],axis=1,join_ax)\n",
    "\n",
    "# 不匹配的用null填充\n",
    "df8 = pd.concat([df1,df2],axis=1)#横向合并\n",
    "df8"
   ]
  }
 ],
 "metadata": {
  "kernelspec": {
   "display_name": "Python 3",
   "language": "python",
   "name": "python3"
  },
  "language_info": {
   "codemirror_mode": {
    "name": "ipython",
    "version": 2
   },
   "file_extension": ".py",
   "mimetype": "text/x-python",
   "name": "python",
   "nbconvert_exporter": "python",
   "pygments_lexer": "ipython2",
   "version": "2.7.6"
  }
 },
 "nbformat": 4,
 "nbformat_minor": 0
}