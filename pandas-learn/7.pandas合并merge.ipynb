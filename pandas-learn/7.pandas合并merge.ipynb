{
 "cells": [
  {
   "cell_type": "code",
   "execution_count": 12,
   "metadata": {
    "collapsed": true
   },
   "outputs": [
    {
     "name": "stdout",
     "output_type": "stream",
     "text": [
      "  key   A   B\n",
      "0  K0  A0  B0\n",
      "1  K1  A1  B1\n",
      "2  K2  A2  B2\n",
      "3  K3  A3  B3\n",
      "  key   C   D\n",
      "0  K0  C0  D0\n",
      "1  K1  C1  D1\n",
      "2  K2  C2  D2\n",
      "3  K3  C3  D3\n",
      "    k  age\n",
      "0  k0    1\n",
      "1  k1    2\n",
      "2  k2    3\n",
      "    k  age\n",
      "0  k0    4\n",
      "1  k0    5\n",
      "2  k3    6\n"
     ]
    },
    {
     "data": {
      "text/plain": "    k  age_boy  age_girl\n0  k0      1.0       4.0\n1  k0      1.0       5.0\n2  k1      2.0       NaN\n3  k2      3.0       NaN\n4  k3      NaN       6.0",
      "text/html": "<div>\n<style scoped>\n    .dataframe tbody tr th:only-of-type {\n        vertical-align: middle;\n    }\n\n    .dataframe tbody tr th {\n        vertical-align: top;\n    }\n\n    .dataframe thead th {\n        text-align: right;\n    }\n</style>\n<table border=\"1\" class=\"dataframe\">\n  <thead>\n    <tr style=\"text-align: right;\">\n      <th></th>\n      <th>k</th>\n      <th>age_boy</th>\n      <th>age_girl</th>\n    </tr>\n  </thead>\n  <tbody>\n    <tr>\n      <th>0</th>\n      <td>k0</td>\n      <td>1.0</td>\n      <td>4.0</td>\n    </tr>\n    <tr>\n      <th>1</th>\n      <td>k0</td>\n      <td>1.0</td>\n      <td>5.0</td>\n    </tr>\n    <tr>\n      <th>2</th>\n      <td>k1</td>\n      <td>2.0</td>\n      <td>NaN</td>\n    </tr>\n    <tr>\n      <th>3</th>\n      <td>k2</td>\n      <td>3.0</td>\n      <td>NaN</td>\n    </tr>\n    <tr>\n      <th>4</th>\n      <td>k3</td>\n      <td>NaN</td>\n      <td>6.0</td>\n    </tr>\n  </tbody>\n</table>\n</div>"
     },
     "execution_count": 12,
     "metadata": {},
     "output_type": "execute_result"
    }
   ],
   "source": [
    "import numpy as np\n",
    "import pandas as pd\n",
    "\n",
    "left = pd.DataFrame({'key':['K0','K1','K2','K3'],\n",
    "                     'A':['A0','A1','A2','A3'],\n",
    "                     'B':['B0','B1','B2','B3']})\n",
    "\n",
    "right = pd.DataFrame({'key':['K0','K1','K2','K3'],\n",
    "                     'C':['C0','C1','C2','C3'],\n",
    "                     'D':['D0','D1','D2','D3']})\n",
    "\n",
    "print(left)\n",
    "print(right)\n",
    "\n",
    "res = pd.merge(left,right,on='key')\n",
    "res\n",
    "\n",
    "left = pd.DataFrame({'key1':['K0','K0','K1','K2'],\n",
    "                     'key2':['K0','K1','K0','K1'],\n",
    "                     'A':['A0','A1','A2','A3'],\n",
    "                     'B':['B0','B1','B2','B3']})\n",
    "\n",
    "right = pd.DataFrame({'key1':['K0','K1','K1','K3'],\n",
    "                      'key2':['K0','K0','K0','K0'],\n",
    "                     'C':['C0','C1','C2','C3'],\n",
    "                     'D':['D0','D1','D2','D3']})\n",
    "\n",
    "#how = ['left','right','inner',outer]\n",
    "#类似数据库的联合查询\n",
    "res = pd.merge(left,right,on=['key1','key2'],how='outer')\n",
    "res\n",
    "\n",
    "res = pd.merge(left,right,on=['key1','key2'],how='inner')\n",
    "res\n",
    "\n",
    "res = pd.merge(left,right,on=['key1','key2'],how='left')\n",
    "res\n",
    "\n",
    "res = pd.merge(left,right,on=['key1','key2'],how='right')\n",
    "res\n",
    "\n",
    "res = pd.merge(left,right,on=['key1','key2'],how='outer',indicator=True)\n",
    "res\n",
    "\n",
    "res = pd.merge(left,right,on=['key1','key2'],how='outer',indicator='indicator_column')\n",
    "res\n",
    "\n",
    "left = pd.DataFrame({'A':['A0','A1','A2'],\n",
    "                     'B':['B0','B1','B2']},\n",
    "                    index=['K0','K1','K2'])\n",
    "\n",
    "right = pd.DataFrame({'C':['C0','C2','C3'],\n",
    "                     'D':['D0','D2','D3']},\n",
    "                     index=['K0','K2','K3'])\n",
    "\n",
    "#outer 是尽可能的去合并\n",
    "#inner 严格，只有完全匹配才去合并\n",
    "res = pd.merge(left,right,left_index=True,right_index=True,how='outer')\n",
    "res\n",
    "\n",
    "boys = pd.DataFrame({'k':['k0','k1','k2'],'age':[1,2,3]})\n",
    "girls= pd.DataFrame({'k':['k0','k0','k3'],'age':[4,5,6]})\n",
    "print(boys)\n",
    "print(girls)\n",
    "\n",
    "res = pd.merge(boys,girls,on='k',suffixes=['_boy','_girl'],how='outer')\n",
    "res"
   ]
  }
 ],
 "metadata": {
  "kernelspec": {
   "display_name": "Python 3",
   "language": "python",
   "name": "python3"
  },
  "language_info": {
   "codemirror_mode": {
    "name": "ipython",
    "version": 2
   },
   "file_extension": ".py",
   "mimetype": "text/x-python",
   "name": "python",
   "nbconvert_exporter": "python",
   "pygments_lexer": "ipython2",
   "version": "2.7.6"
  }
 },
 "nbformat": 4,
 "nbformat_minor": 0
}