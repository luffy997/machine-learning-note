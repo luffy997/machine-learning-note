{
 "cells": [
  {
   "cell_type": "code",
   "execution_count": 2,
   "metadata": {
    "collapsed": true
   },
   "outputs": [
    {
     "name": "stdout",
     "output_type": "stream",
     "text": [
      "            A      B      C     D     E    F\n",
      "20170101  1.0    1.0    2.0   3.0  10.0  1.0\n",
      "20170102  4.0  200.0    6.0   7.0  10.0  2.0\n",
      "20170103  8.0    9.0  100.0  11.0  10.0  3.0\n",
      "20170104  1.0    0.0    0.0   0.0  10.0  4.0\n",
      "20170105  1.0    0.0    0.0   0.0  10.0  5.0\n",
      "20170106  1.0    0.0    0.0   0.0  10.0  6.0\n",
      "20170107  1.0    2.0    3.0   NaN   NaN  NaN\n",
      "              C     D     E    F\n",
      "20170101    2.0   3.0  10.0  1.0\n",
      "20170102    6.0   7.0  10.0  2.0\n",
      "20170103  100.0  11.0  10.0  3.0\n",
      "20170104    0.0   0.0  10.0  4.0\n",
      "20170105    0.0   0.0  10.0  5.0\n",
      "20170106    0.0   0.0  10.0  6.0\n",
      "20170107    3.0   NaN   NaN  NaN\n"
     ]
    },
    {
     "data": {
      "text/plain": "            A      B      C     D     E    F\n20170101  1.0    1.0    2.0   3.0  10.0  1.0\n20170102  4.0  200.0    6.0   7.0  10.0  2.0\n20170103  8.0    9.0  100.0  11.0  10.0  3.0\n20170104  1.0    0.0    0.0   0.0  10.0  4.0\n20170105  1.0    0.0    0.0   0.0  10.0  5.0\n20170106  1.0    0.0    0.0   0.0  10.0  6.0\n20170107  1.0    2.0    3.0   NaN   NaN  NaN",
      "text/html": "<div>\n<style scoped>\n    .dataframe tbody tr th:only-of-type {\n        vertical-align: middle;\n    }\n\n    .dataframe tbody tr th {\n        vertical-align: top;\n    }\n\n    .dataframe thead th {\n        text-align: right;\n    }\n</style>\n<table border=\"1\" class=\"dataframe\">\n  <thead>\n    <tr style=\"text-align: right;\">\n      <th></th>\n      <th>A</th>\n      <th>B</th>\n      <th>C</th>\n      <th>D</th>\n      <th>E</th>\n      <th>F</th>\n    </tr>\n  </thead>\n  <tbody>\n    <tr>\n      <th>20170101</th>\n      <td>1.0</td>\n      <td>1.0</td>\n      <td>2.0</td>\n      <td>3.0</td>\n      <td>10.0</td>\n      <td>1.0</td>\n    </tr>\n    <tr>\n      <th>20170102</th>\n      <td>4.0</td>\n      <td>200.0</td>\n      <td>6.0</td>\n      <td>7.0</td>\n      <td>10.0</td>\n      <td>2.0</td>\n    </tr>\n    <tr>\n      <th>20170103</th>\n      <td>8.0</td>\n      <td>9.0</td>\n      <td>100.0</td>\n      <td>11.0</td>\n      <td>10.0</td>\n      <td>3.0</td>\n    </tr>\n    <tr>\n      <th>20170104</th>\n      <td>1.0</td>\n      <td>0.0</td>\n      <td>0.0</td>\n      <td>0.0</td>\n      <td>10.0</td>\n      <td>4.0</td>\n    </tr>\n    <tr>\n      <th>20170105</th>\n      <td>1.0</td>\n      <td>0.0</td>\n      <td>0.0</td>\n      <td>0.0</td>\n      <td>10.0</td>\n      <td>5.0</td>\n    </tr>\n    <tr>\n      <th>20170106</th>\n      <td>1.0</td>\n      <td>0.0</td>\n      <td>0.0</td>\n      <td>0.0</td>\n      <td>10.0</td>\n      <td>6.0</td>\n    </tr>\n    <tr>\n      <th>20170107</th>\n      <td>1.0</td>\n      <td>2.0</td>\n      <td>3.0</td>\n      <td>NaN</td>\n      <td>NaN</td>\n      <td>NaN</td>\n    </tr>\n  </tbody>\n</table>\n</div>"
     },
     "execution_count": 2,
     "metadata": {},
     "output_type": "execute_result"
    }
   ],
   "source": [
    "import numpy as np\n",
    "import pandas as pd\n",
    "\n",
    "dates = np.arange(20170101,20170107)\n",
    "df1 = pd.DataFrame(np.arange(24).reshape(6,4),index=dates, columns=['A','B','C','D'])\n",
    "df1\n",
    "\n",
    "df1.iloc[2,2]\n",
    "df1.iloc[2,2] = 100\n",
    "df1\n",
    "\n",
    "df1.loc[20170102,'B'] = 200\n",
    "df1\n",
    "\n",
    "df1[df1.A>10] = 0\n",
    "df1\n",
    "\n",
    "df1.A[df1.A ==0] = 1\n",
    "df1\n",
    "\n",
    "#插入新的行\n",
    "df1['E'] = 10\n",
    "df1\n",
    "\n",
    "df1['F'] = pd.Series([1,2,3,4,5,6],index=dates)\n",
    "df1\n",
    "\n",
    "df1.loc[20170107,['A','B','C']] = [1,2,3]\n",
    "df1\n",
    "\n",
    "#追加\n",
    "s1 = pd.Series([1,2,3,4,5,6],index=['A','B','C','D','E','F'])\n",
    "s1.name = 'S1'\n",
    "df2 = df1.append(s1)\n",
    "df2\n",
    "\n",
    "#插入到1列 内容是df2['E']\n",
    "df1.insert(1,'G',df2['E'])\n",
    "df1\n",
    "\n",
    "#移动\n",
    "g = df1.pop('G')\n",
    "df1.insert(6,'G',g)\n",
    "df1\n",
    "\n",
    "#删除\n",
    "del df1['G']\n",
    "df1\n",
    "\n",
    "#删除AB列 drop有返回值 不会真的删除数据\n",
    "df2 = df1.drop(['A','B'],axis=1)\n",
    "print(df1)\n",
    "print(df2)\n",
    "# df2\n",
    "#\n",
    "# #删除行\n",
    "df2 = df1.drop([20170101,20170107],axis=0)\n",
    "df1\n",
    "# df2"
   ]
  }
 ],
 "metadata": {
  "kernelspec": {
   "display_name": "Python 3",
   "language": "python",
   "name": "python3"
  },
  "language_info": {
   "codemirror_mode": {
    "name": "ipython",
    "version": 2
   },
   "file_extension": ".py",
   "mimetype": "text/x-python",
   "name": "python",
   "nbconvert_exporter": "python",
   "pygments_lexer": "ipython2",
   "version": "2.7.6"
  }
 },
 "nbformat": 4,
 "nbformat_minor": 0
}