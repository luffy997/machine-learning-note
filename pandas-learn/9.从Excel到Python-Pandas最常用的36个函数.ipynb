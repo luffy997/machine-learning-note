{
 "cells": [
  {
   "cell_type": "code",
   "execution_count": 407,
   "metadata": {},
   "outputs": [
    {
     "data": {
      "text/plain": "'\\n数据表检查的目的是了解数据表的整体情况，获得数据表的关键信息、\\n数据的概况，例如整个数据表的大小、所占空间、数据格式、是否有\\n空值和重复项和具体的数据内容，为后面的清洗和预处理做好准备。\\n'"
     },
     "execution_count": 407,
     "metadata": {},
     "output_type": "execute_result"
    }
   ],
   "source": [
    "import numpy as np\n",
    "import pandas as pd\n",
    "\n",
    "#直接写入数据\n",
    "df = pd.DataFrame({\n",
    "    \"id\":[1001,1002,1003,1004,1005,1006],\n",
    "    \"date\":pd.date_range('20130102', periods=6),\n",
    "    \"city\":['Beijing ', 'SH', ' guangzhou ', 'Shenzhen', 'shanghai', 'BEIJING '],\n",
    "    \"age\":[23,44,54,32,34,32],\n",
    "    \"category\":['100-A','100-B','110-A','110-C','210-A','130-F'],\n",
    "    \"price\":[1200,np.nan,2133,5433,np.nan,4432]},\n",
    "    columns =['id','date','city','category','age','price'])\n",
    "\n",
    "df\n",
    "\n",
    "# 一、数据表检查\n",
    "'''\n",
    "数据表检查的目的是了解数据表的整体情况，获得数据表的关键信息、\n",
    "数据的概况，例如整个数据表的大小、所占空间、数据格式、是否有\n",
    "空值和重复项和具体的数据内容，为后面的清洗和预处理做好准备。\n",
    "'''\n"
   ]
  },
  {
   "cell_type": "code",
   "execution_count": 408,
   "metadata": {},
   "outputs": [
    {
     "data": {
      "text/plain": "(6, 6)"
     },
     "execution_count": 408,
     "metadata": {},
     "output_type": "execute_result"
    }
   ],
   "source": [
    "#1.数据维度(行列)\n",
    "df.shape"
   ]
  },
  {
   "cell_type": "code",
   "execution_count": 409,
   "metadata": {},
   "outputs": [
    {
     "name": "stdout",
     "output_type": "stream",
     "text": [
      "<class 'pandas.core.frame.DataFrame'>\n",
      "RangeIndex: 6 entries, 0 to 5\n",
      "Data columns (total 6 columns):\n",
      " #   Column    Non-Null Count  Dtype         \n",
      "---  ------    --------------  -----         \n",
      " 0   id        6 non-null      int64         \n",
      " 1   date      6 non-null      datetime64[ns]\n",
      " 2   city      6 non-null      object        \n",
      " 3   category  6 non-null      object        \n",
      " 4   age       6 non-null      int64         \n",
      " 5   price     4 non-null      float64       \n",
      "dtypes: datetime64[ns](1), float64(1), int64(2), object(2)\n",
      "memory usage: 416.0+ bytes\n"
     ]
    }
   ],
   "source": [
    "#2.数据表信\n",
    "df.info()"
   ]
  },
  {
   "cell_type": "code",
   "execution_count": 410,
   "metadata": {},
   "outputs": [
    {
     "data": {
      "text/plain": "      id   date   city  category    age  price\n0  False  False  False     False  False  False\n1  False  False  False     False  False   True\n2  False  False  False     False  False  False\n3  False  False  False     False  False  False\n4  False  False  False     False  False   True\n5  False  False  False     False  False  False",
      "text/html": "<div>\n<style scoped>\n    .dataframe tbody tr th:only-of-type {\n        vertical-align: middle;\n    }\n\n    .dataframe tbody tr th {\n        vertical-align: top;\n    }\n\n    .dataframe thead th {\n        text-align: right;\n    }\n</style>\n<table border=\"1\" class=\"dataframe\">\n  <thead>\n    <tr style=\"text-align: right;\">\n      <th></th>\n      <th>id</th>\n      <th>date</th>\n      <th>city</th>\n      <th>category</th>\n      <th>age</th>\n      <th>price</th>\n    </tr>\n  </thead>\n  <tbody>\n    <tr>\n      <th>0</th>\n      <td>False</td>\n      <td>False</td>\n      <td>False</td>\n      <td>False</td>\n      <td>False</td>\n      <td>False</td>\n    </tr>\n    <tr>\n      <th>1</th>\n      <td>False</td>\n      <td>False</td>\n      <td>False</td>\n      <td>False</td>\n      <td>False</td>\n      <td>True</td>\n    </tr>\n    <tr>\n      <th>2</th>\n      <td>False</td>\n      <td>False</td>\n      <td>False</td>\n      <td>False</td>\n      <td>False</td>\n      <td>False</td>\n    </tr>\n    <tr>\n      <th>3</th>\n      <td>False</td>\n      <td>False</td>\n      <td>False</td>\n      <td>False</td>\n      <td>False</td>\n      <td>False</td>\n    </tr>\n    <tr>\n      <th>4</th>\n      <td>False</td>\n      <td>False</td>\n      <td>False</td>\n      <td>False</td>\n      <td>False</td>\n      <td>True</td>\n    </tr>\n    <tr>\n      <th>5</th>\n      <td>False</td>\n      <td>False</td>\n      <td>False</td>\n      <td>False</td>\n      <td>False</td>\n      <td>False</td>\n    </tr>\n  </tbody>\n</table>\n</div>"
     },
     "execution_count": 410,
     "metadata": {},
     "output_type": "execute_result"
    }
   ],
   "source": [
    "#3.检验空值\n",
    "df.isnull()"
   ]
  },
  {
   "cell_type": "code",
   "execution_count": 411,
   "metadata": {},
   "outputs": [
    {
     "data": {
      "text/plain": "0    False\n1     True\n2    False\n3    False\n4     True\n5    False\nName: price, dtype: bool"
     },
     "execution_count": 411,
     "metadata": {},
     "output_type": "execute_result"
    }
   ],
   "source": [
    "#检验特定列是否为空\n",
    "df['price'].isnull()"
   ]
  },
  {
   "cell_type": "code",
   "execution_count": 412,
   "metadata": {},
   "outputs": [
    {
     "data": {
      "text/plain": "array(['Beijing ', 'SH', ' guangzhou ', 'Shenzhen', 'shanghai',\n       'BEIJING '], dtype=object)"
     },
     "execution_count": 412,
     "metadata": {},
     "output_type": "execute_result"
    }
   ],
   "source": [
    "# 4.查看是否唯一值\n",
    "df['city'].unique()"
   ]
  },
  {
   "cell_type": "code",
   "execution_count": 413,
   "metadata": {},
   "outputs": [
    {
     "data": {
      "text/plain": "array([[1001, Timestamp('2013-01-02 00:00:00'), 'Beijing ', '100-A', 23,\n        1200.0],\n       [1002, Timestamp('2013-01-03 00:00:00'), 'SH', '100-B', 44, nan],\n       [1003, Timestamp('2013-01-04 00:00:00'), ' guangzhou ', '110-A',\n        54, 2133.0],\n       [1004, Timestamp('2013-01-05 00:00:00'), 'Shenzhen', '110-C', 32,\n        5433.0],\n       [1005, Timestamp('2013-01-06 00:00:00'), 'shanghai', '210-A', 34,\n        nan],\n       [1006, Timestamp('2013-01-07 00:00:00'), 'BEIJING ', '130-F', 32,\n        4432.0]], dtype=object)"
     },
     "execution_count": 413,
     "metadata": {},
     "output_type": "execute_result"
    }
   ],
   "source": [
    "#查看数据表数值\n",
    "df.values"
   ]
  },
  {
   "cell_type": "code",
   "execution_count": 414,
   "metadata": {},
   "outputs": [
    {
     "data": {
      "text/plain": "Index(['id', 'date', 'city', 'category', 'age', 'price'], dtype='object')"
     },
     "execution_count": 414,
     "metadata": {},
     "output_type": "execute_result"
    }
   ],
   "source": [
    "#查看列名称\n",
    "df.columns"
   ]
  },
  {
   "cell_type": "code",
   "execution_count": 415,
   "metadata": {},
   "outputs": [
    {
     "data": {
      "text/plain": "     id       date         city category  age   price\n0  1001 2013-01-02     Beijing     100-A   23  1200.0\n1  1002 2013-01-03           SH    100-B   44     NaN\n2  1003 2013-01-04   guangzhou     110-A   54  2133.0\n3  1004 2013-01-05     Shenzhen    110-C   32  5433.0\n4  1005 2013-01-06     shanghai    210-A   34     NaN",
      "text/html": "<div>\n<style scoped>\n    .dataframe tbody tr th:only-of-type {\n        vertical-align: middle;\n    }\n\n    .dataframe tbody tr th {\n        vertical-align: top;\n    }\n\n    .dataframe thead th {\n        text-align: right;\n    }\n</style>\n<table border=\"1\" class=\"dataframe\">\n  <thead>\n    <tr style=\"text-align: right;\">\n      <th></th>\n      <th>id</th>\n      <th>date</th>\n      <th>city</th>\n      <th>category</th>\n      <th>age</th>\n      <th>price</th>\n    </tr>\n  </thead>\n  <tbody>\n    <tr>\n      <th>0</th>\n      <td>1001</td>\n      <td>2013-01-02</td>\n      <td>Beijing</td>\n      <td>100-A</td>\n      <td>23</td>\n      <td>1200.0</td>\n    </tr>\n    <tr>\n      <th>1</th>\n      <td>1002</td>\n      <td>2013-01-03</td>\n      <td>SH</td>\n      <td>100-B</td>\n      <td>44</td>\n      <td>NaN</td>\n    </tr>\n    <tr>\n      <th>2</th>\n      <td>1003</td>\n      <td>2013-01-04</td>\n      <td>guangzhou</td>\n      <td>110-A</td>\n      <td>54</td>\n      <td>2133.0</td>\n    </tr>\n    <tr>\n      <th>3</th>\n      <td>1004</td>\n      <td>2013-01-05</td>\n      <td>Shenzhen</td>\n      <td>110-C</td>\n      <td>32</td>\n      <td>5433.0</td>\n    </tr>\n    <tr>\n      <th>4</th>\n      <td>1005</td>\n      <td>2013-01-06</td>\n      <td>shanghai</td>\n      <td>210-A</td>\n      <td>34</td>\n      <td>NaN</td>\n    </tr>\n  </tbody>\n</table>\n</div>"
     },
     "execution_count": 415,
     "metadata": {},
     "output_type": "execute_result"
    }
   ],
   "source": [
    "#查看前N行数据\n",
    "df.head()"
   ]
  },
  {
   "cell_type": "code",
   "execution_count": 416,
   "metadata": {},
   "outputs": [
    {
     "data": {
      "text/plain": "                id       age        price\ncount     6.000000   6.00000     4.000000\nmean   1003.500000  36.50000  3299.500000\nstd       1.870829  10.87658  1966.638503\nmin    1001.000000  23.00000  1200.000000\n25%    1002.250000  32.00000  1899.750000\n50%    1003.500000  33.00000  3282.500000\n75%    1004.750000  41.50000  4682.250000\nmax    1006.000000  54.00000  5433.000000",
      "text/html": "<div>\n<style scoped>\n    .dataframe tbody tr th:only-of-type {\n        vertical-align: middle;\n    }\n\n    .dataframe tbody tr th {\n        vertical-align: top;\n    }\n\n    .dataframe thead th {\n        text-align: right;\n    }\n</style>\n<table border=\"1\" class=\"dataframe\">\n  <thead>\n    <tr style=\"text-align: right;\">\n      <th></th>\n      <th>id</th>\n      <th>age</th>\n      <th>price</th>\n    </tr>\n  </thead>\n  <tbody>\n    <tr>\n      <th>count</th>\n      <td>6.000000</td>\n      <td>6.00000</td>\n      <td>4.000000</td>\n    </tr>\n    <tr>\n      <th>mean</th>\n      <td>1003.500000</td>\n      <td>36.50000</td>\n      <td>3299.500000</td>\n    </tr>\n    <tr>\n      <th>std</th>\n      <td>1.870829</td>\n      <td>10.87658</td>\n      <td>1966.638503</td>\n    </tr>\n    <tr>\n      <th>min</th>\n      <td>1001.000000</td>\n      <td>23.00000</td>\n      <td>1200.000000</td>\n    </tr>\n    <tr>\n      <th>25%</th>\n      <td>1002.250000</td>\n      <td>32.00000</td>\n      <td>1899.750000</td>\n    </tr>\n    <tr>\n      <th>50%</th>\n      <td>1003.500000</td>\n      <td>33.00000</td>\n      <td>3282.500000</td>\n    </tr>\n    <tr>\n      <th>75%</th>\n      <td>1004.750000</td>\n      <td>41.50000</td>\n      <td>4682.250000</td>\n    </tr>\n    <tr>\n      <th>max</th>\n      <td>1006.000000</td>\n      <td>54.00000</td>\n      <td>5433.000000</td>\n    </tr>\n  </tbody>\n</table>\n</div>"
     },
     "execution_count": 416,
     "metadata": {},
     "output_type": "execute_result"
    }
   ],
   "source": [
    "#数据描述\n",
    "df.describe()"
   ]
  },
  {
   "cell_type": "code",
   "execution_count": 417,
   "metadata": {},
   "outputs": [
    {
     "data": {
      "text/plain": "     id       date         city category  age   price\n0  1001 2013-01-02     Beijing     100-A   23  1200.0\n1  1002 2013-01-03           SH    100-B   44     NaN\n2  1003 2013-01-04   guangzhou     110-A   54  2133.0\n3  1004 2013-01-05     Shenzhen    110-C   32  5433.0\n4  1005 2013-01-06     shanghai    210-A   34     NaN\n5  1006 2013-01-07     BEIJING     130-F   32  4432.0",
      "text/html": "<div>\n<style scoped>\n    .dataframe tbody tr th:only-of-type {\n        vertical-align: middle;\n    }\n\n    .dataframe tbody tr th {\n        vertical-align: top;\n    }\n\n    .dataframe thead th {\n        text-align: right;\n    }\n</style>\n<table border=\"1\" class=\"dataframe\">\n  <thead>\n    <tr style=\"text-align: right;\">\n      <th></th>\n      <th>id</th>\n      <th>date</th>\n      <th>city</th>\n      <th>category</th>\n      <th>age</th>\n      <th>price</th>\n    </tr>\n  </thead>\n  <tbody>\n    <tr>\n      <th>0</th>\n      <td>1001</td>\n      <td>2013-01-02</td>\n      <td>Beijing</td>\n      <td>100-A</td>\n      <td>23</td>\n      <td>1200.0</td>\n    </tr>\n    <tr>\n      <th>1</th>\n      <td>1002</td>\n      <td>2013-01-03</td>\n      <td>SH</td>\n      <td>100-B</td>\n      <td>44</td>\n      <td>NaN</td>\n    </tr>\n    <tr>\n      <th>2</th>\n      <td>1003</td>\n      <td>2013-01-04</td>\n      <td>guangzhou</td>\n      <td>110-A</td>\n      <td>54</td>\n      <td>2133.0</td>\n    </tr>\n    <tr>\n      <th>3</th>\n      <td>1004</td>\n      <td>2013-01-05</td>\n      <td>Shenzhen</td>\n      <td>110-C</td>\n      <td>32</td>\n      <td>5433.0</td>\n    </tr>\n    <tr>\n      <th>4</th>\n      <td>1005</td>\n      <td>2013-01-06</td>\n      <td>shanghai</td>\n      <td>210-A</td>\n      <td>34</td>\n      <td>NaN</td>\n    </tr>\n    <tr>\n      <th>5</th>\n      <td>1006</td>\n      <td>2013-01-07</td>\n      <td>BEIJING</td>\n      <td>130-F</td>\n      <td>32</td>\n      <td>4432.0</td>\n    </tr>\n  </tbody>\n</table>\n</div>"
     },
     "execution_count": 417,
     "metadata": {},
     "output_type": "execute_result"
    }
   ],
   "source": [
    "df.head(10)"
   ]
  },
  {
   "cell_type": "code",
   "execution_count": 418,
   "metadata": {},
   "outputs": [
    {
     "data": {
      "text/plain": "     id       date         city category  age   price\n1  1002 2013-01-03           SH    100-B   44     NaN\n2  1003 2013-01-04   guangzhou     110-A   54  2133.0\n3  1004 2013-01-05     Shenzhen    110-C   32  5433.0\n4  1005 2013-01-06     shanghai    210-A   34     NaN\n5  1006 2013-01-07     BEIJING     130-F   32  4432.0",
      "text/html": "<div>\n<style scoped>\n    .dataframe tbody tr th:only-of-type {\n        vertical-align: middle;\n    }\n\n    .dataframe tbody tr th {\n        vertical-align: top;\n    }\n\n    .dataframe thead th {\n        text-align: right;\n    }\n</style>\n<table border=\"1\" class=\"dataframe\">\n  <thead>\n    <tr style=\"text-align: right;\">\n      <th></th>\n      <th>id</th>\n      <th>date</th>\n      <th>city</th>\n      <th>category</th>\n      <th>age</th>\n      <th>price</th>\n    </tr>\n  </thead>\n  <tbody>\n    <tr>\n      <th>1</th>\n      <td>1002</td>\n      <td>2013-01-03</td>\n      <td>SH</td>\n      <td>100-B</td>\n      <td>44</td>\n      <td>NaN</td>\n    </tr>\n    <tr>\n      <th>2</th>\n      <td>1003</td>\n      <td>2013-01-04</td>\n      <td>guangzhou</td>\n      <td>110-A</td>\n      <td>54</td>\n      <td>2133.0</td>\n    </tr>\n    <tr>\n      <th>3</th>\n      <td>1004</td>\n      <td>2013-01-05</td>\n      <td>Shenzhen</td>\n      <td>110-C</td>\n      <td>32</td>\n      <td>5433.0</td>\n    </tr>\n    <tr>\n      <th>4</th>\n      <td>1005</td>\n      <td>2013-01-06</td>\n      <td>shanghai</td>\n      <td>210-A</td>\n      <td>34</td>\n      <td>NaN</td>\n    </tr>\n    <tr>\n      <th>5</th>\n      <td>1006</td>\n      <td>2013-01-07</td>\n      <td>BEIJING</td>\n      <td>130-F</td>\n      <td>32</td>\n      <td>4432.0</td>\n    </tr>\n  </tbody>\n</table>\n</div>"
     },
     "execution_count": 418,
     "metadata": {},
     "output_type": "execute_result"
    }
   ],
   "source": [
    "#查看后3行数据\n",
    "df.tail()"
   ]
  },
  {
   "cell_type": "code",
   "execution_count": 419,
   "metadata": {},
   "outputs": [
    {
     "data": {
      "text/plain": "     id       date      city category  age   price\n3  1004 2013-01-05  Shenzhen    110-C   32  5433.0\n4  1005 2013-01-06  shanghai    210-A   34     NaN\n5  1006 2013-01-07  BEIJING     130-F   32  4432.0",
      "text/html": "<div>\n<style scoped>\n    .dataframe tbody tr th:only-of-type {\n        vertical-align: middle;\n    }\n\n    .dataframe tbody tr th {\n        vertical-align: top;\n    }\n\n    .dataframe thead th {\n        text-align: right;\n    }\n</style>\n<table border=\"1\" class=\"dataframe\">\n  <thead>\n    <tr style=\"text-align: right;\">\n      <th></th>\n      <th>id</th>\n      <th>date</th>\n      <th>city</th>\n      <th>category</th>\n      <th>age</th>\n      <th>price</th>\n    </tr>\n  </thead>\n  <tbody>\n    <tr>\n      <th>3</th>\n      <td>1004</td>\n      <td>2013-01-05</td>\n      <td>Shenzhen</td>\n      <td>110-C</td>\n      <td>32</td>\n      <td>5433.0</td>\n    </tr>\n    <tr>\n      <th>4</th>\n      <td>1005</td>\n      <td>2013-01-06</td>\n      <td>shanghai</td>\n      <td>210-A</td>\n      <td>34</td>\n      <td>NaN</td>\n    </tr>\n    <tr>\n      <th>5</th>\n      <td>1006</td>\n      <td>2013-01-07</td>\n      <td>BEIJING</td>\n      <td>130-F</td>\n      <td>32</td>\n      <td>4432.0</td>\n    </tr>\n  </tbody>\n</table>\n</div>"
     },
     "execution_count": 419,
     "metadata": {},
     "output_type": "execute_result"
    }
   ],
   "source": [
    "df.tail(3)"
   ]
  },
  {
   "cell_type": "code",
   "execution_count": 420,
   "metadata": {},
   "outputs": [],
   "source": [
    "# 二、数据表清洗\n",
    "# 本章介绍对数据表中的问题进行清洗，包括对空值、大小写问题、数据格式和重复值的处理。"
   ]
  },
  {
   "cell_type": "code",
   "execution_count": 421,
   "metadata": {},
   "outputs": [
    {
     "data": {
      "text/plain": "     id       date         city category  age   price\n0  1001 2013-01-02     Beijing     100-A   23  1200.0\n2  1003 2013-01-04   guangzhou     110-A   54  2133.0\n3  1004 2013-01-05     Shenzhen    110-C   32  5433.0\n5  1006 2013-01-07     BEIJING     130-F   32  4432.0",
      "text/html": "<div>\n<style scoped>\n    .dataframe tbody tr th:only-of-type {\n        vertical-align: middle;\n    }\n\n    .dataframe tbody tr th {\n        vertical-align: top;\n    }\n\n    .dataframe thead th {\n        text-align: right;\n    }\n</style>\n<table border=\"1\" class=\"dataframe\">\n  <thead>\n    <tr style=\"text-align: right;\">\n      <th></th>\n      <th>id</th>\n      <th>date</th>\n      <th>city</th>\n      <th>category</th>\n      <th>age</th>\n      <th>price</th>\n    </tr>\n  </thead>\n  <tbody>\n    <tr>\n      <th>0</th>\n      <td>1001</td>\n      <td>2013-01-02</td>\n      <td>Beijing</td>\n      <td>100-A</td>\n      <td>23</td>\n      <td>1200.0</td>\n    </tr>\n    <tr>\n      <th>2</th>\n      <td>1003</td>\n      <td>2013-01-04</td>\n      <td>guangzhou</td>\n      <td>110-A</td>\n      <td>54</td>\n      <td>2133.0</td>\n    </tr>\n    <tr>\n      <th>3</th>\n      <td>1004</td>\n      <td>2013-01-05</td>\n      <td>Shenzhen</td>\n      <td>110-C</td>\n      <td>32</td>\n      <td>5433.0</td>\n    </tr>\n    <tr>\n      <th>5</th>\n      <td>1006</td>\n      <td>2013-01-07</td>\n      <td>BEIJING</td>\n      <td>130-F</td>\n      <td>32</td>\n      <td>4432.0</td>\n    </tr>\n  </tbody>\n</table>\n</div>"
     },
     "execution_count": 421,
     "metadata": {},
     "output_type": "execute_result"
    }
   ],
   "source": [
    "#1.处理空值（删除或者填充）\n",
    "#删除数据表中含有空值的行\n",
    "data =  df.dropna(how ='any')\n",
    "data.head(10)"
   ]
  },
  {
   "cell_type": "code",
   "execution_count": 422,
   "metadata": {},
   "outputs": [
    {
     "data": {
      "text/plain": "     id       date         city category  age   price\n0  1001 2013-01-02     Beijing     100-A   23  1200.0\n1  1002 2013-01-03           SH    100-B   44     NaN\n2  1003 2013-01-04   guangzhou     110-A   54  2133.0\n3  1004 2013-01-05     Shenzhen    110-C   32  5433.0\n4  1005 2013-01-06     shanghai    210-A   34     NaN\n5  1006 2013-01-07     BEIJING     130-F   32  4432.0",
      "text/html": "<div>\n<style scoped>\n    .dataframe tbody tr th:only-of-type {\n        vertical-align: middle;\n    }\n\n    .dataframe tbody tr th {\n        vertical-align: top;\n    }\n\n    .dataframe thead th {\n        text-align: right;\n    }\n</style>\n<table border=\"1\" class=\"dataframe\">\n  <thead>\n    <tr style=\"text-align: right;\">\n      <th></th>\n      <th>id</th>\n      <th>date</th>\n      <th>city</th>\n      <th>category</th>\n      <th>age</th>\n      <th>price</th>\n    </tr>\n  </thead>\n  <tbody>\n    <tr>\n      <th>0</th>\n      <td>1001</td>\n      <td>2013-01-02</td>\n      <td>Beijing</td>\n      <td>100-A</td>\n      <td>23</td>\n      <td>1200.0</td>\n    </tr>\n    <tr>\n      <th>1</th>\n      <td>1002</td>\n      <td>2013-01-03</td>\n      <td>SH</td>\n      <td>100-B</td>\n      <td>44</td>\n      <td>NaN</td>\n    </tr>\n    <tr>\n      <th>2</th>\n      <td>1003</td>\n      <td>2013-01-04</td>\n      <td>guangzhou</td>\n      <td>110-A</td>\n      <td>54</td>\n      <td>2133.0</td>\n    </tr>\n    <tr>\n      <th>3</th>\n      <td>1004</td>\n      <td>2013-01-05</td>\n      <td>Shenzhen</td>\n      <td>110-C</td>\n      <td>32</td>\n      <td>5433.0</td>\n    </tr>\n    <tr>\n      <th>4</th>\n      <td>1005</td>\n      <td>2013-01-06</td>\n      <td>shanghai</td>\n      <td>210-A</td>\n      <td>34</td>\n      <td>NaN</td>\n    </tr>\n    <tr>\n      <th>5</th>\n      <td>1006</td>\n      <td>2013-01-07</td>\n      <td>BEIJING</td>\n      <td>130-F</td>\n      <td>32</td>\n      <td>4432.0</td>\n    </tr>\n  </tbody>\n</table>\n</div>"
     },
     "execution_count": 422,
     "metadata": {},
     "output_type": "execute_result"
    }
   ],
   "source": [
    "#使用数字0填充数据表中空值\n",
    "df.fillna(value=0)\n",
    "df.head(10)"
   ]
  },
  {
   "cell_type": "code",
   "execution_count": 422,
   "metadata": {},
   "outputs": [],
   "source": []
  },
  {
   "cell_type": "code",
   "execution_count": 423,
   "metadata": {},
   "outputs": [
    {
     "name": "stdout",
     "output_type": "stream",
     "text": [
      "     id       date         city category  age   price\n",
      "0  1001 2013-01-02     Beijing     100-A   23  1200.0\n",
      "1  1002 2013-01-03           SH    100-B   44  3299.5\n",
      "2  1003 2013-01-04   guangzhou     110-A   54  2133.0\n",
      "3  1004 2013-01-05     Shenzhen    110-C   32  5433.0\n",
      "4  1005 2013-01-06     shanghai    210-A   34  3299.5\n",
      "5  1006 2013-01-07     BEIJING     130-F   32  4432.0\n"
     ]
    },
    {
     "data": {
      "text/plain": "     id       date         city category  age   price\n0  1001 2013-01-02     Beijing     100-A   23  1200.0\n1  1002 2013-01-03           SH    100-B   44  3299.5\n2  1003 2013-01-04   guangzhou     110-A   54  2133.0\n3  1004 2013-01-05     Shenzhen    110-C   32  5433.0\n4  1005 2013-01-06     shanghai    210-A   34  3299.5\n5  1006 2013-01-07     BEIJING     130-F   32  4432.0",
      "text/html": "<div>\n<style scoped>\n    .dataframe tbody tr th:only-of-type {\n        vertical-align: middle;\n    }\n\n    .dataframe tbody tr th {\n        vertical-align: top;\n    }\n\n    .dataframe thead th {\n        text-align: right;\n    }\n</style>\n<table border=\"1\" class=\"dataframe\">\n  <thead>\n    <tr style=\"text-align: right;\">\n      <th></th>\n      <th>id</th>\n      <th>date</th>\n      <th>city</th>\n      <th>category</th>\n      <th>age</th>\n      <th>price</th>\n    </tr>\n  </thead>\n  <tbody>\n    <tr>\n      <th>0</th>\n      <td>1001</td>\n      <td>2013-01-02</td>\n      <td>Beijing</td>\n      <td>100-A</td>\n      <td>23</td>\n      <td>1200.0</td>\n    </tr>\n    <tr>\n      <th>1</th>\n      <td>1002</td>\n      <td>2013-01-03</td>\n      <td>SH</td>\n      <td>100-B</td>\n      <td>44</td>\n      <td>3299.5</td>\n    </tr>\n    <tr>\n      <th>2</th>\n      <td>1003</td>\n      <td>2013-01-04</td>\n      <td>guangzhou</td>\n      <td>110-A</td>\n      <td>54</td>\n      <td>2133.0</td>\n    </tr>\n    <tr>\n      <th>3</th>\n      <td>1004</td>\n      <td>2013-01-05</td>\n      <td>Shenzhen</td>\n      <td>110-C</td>\n      <td>32</td>\n      <td>5433.0</td>\n    </tr>\n    <tr>\n      <th>4</th>\n      <td>1005</td>\n      <td>2013-01-06</td>\n      <td>shanghai</td>\n      <td>210-A</td>\n      <td>34</td>\n      <td>3299.5</td>\n    </tr>\n    <tr>\n      <th>5</th>\n      <td>1006</td>\n      <td>2013-01-07</td>\n      <td>BEIJING</td>\n      <td>130-F</td>\n      <td>32</td>\n      <td>4432.0</td>\n    </tr>\n  </tbody>\n</table>\n</div>"
     },
     "execution_count": 423,
     "metadata": {},
     "output_type": "execute_result"
    }
   ],
   "source": [
    "'''\n",
    "使用price列的均值来填充NA字段，同样使用fillna函数，\n",
    "在要填充的数值中使用mean函数先计算price列当前的均值，\n",
    "然后使用这个均值对NA进行填充。\n",
    "'''\n",
    "#使用price均值对NA进行填充\n",
    "df['price'] = df['price'].fillna(df['price'].mean())\n",
    "print(df)\n",
    "#调sklearn的插补库\n",
    "from sklearn.impute import SimpleImputer\n",
    "imr = SimpleImputer(strategy='mean')\n",
    "column = ['price']\n",
    "df[column]  = imr.fit_transform(df[column])\n",
    "df.head(10)"
   ]
  },
  {
   "cell_type": "code",
   "execution_count": 423,
   "metadata": {},
   "outputs": [],
   "source": []
  },
  {
   "cell_type": "code",
   "execution_count": 424,
   "metadata": {
    "pycharm": {
     "name": "#%%\n"
    }
   },
   "outputs": [
    {
     "data": {
      "text/plain": "     id       date       city category  age   price\n0  1001 2013-01-02    Beijing    100-A   23  1200.0\n1  1002 2013-01-03         SH    100-B   44  3299.5\n2  1003 2013-01-04  guangzhou    110-A   54  2133.0\n3  1004 2013-01-05   Shenzhen    110-C   32  5433.0\n4  1005 2013-01-06   shanghai    210-A   34  3299.5\n5  1006 2013-01-07    BEIJING    130-F   32  4432.0",
      "text/html": "<div>\n<style scoped>\n    .dataframe tbody tr th:only-of-type {\n        vertical-align: middle;\n    }\n\n    .dataframe tbody tr th {\n        vertical-align: top;\n    }\n\n    .dataframe thead th {\n        text-align: right;\n    }\n</style>\n<table border=\"1\" class=\"dataframe\">\n  <thead>\n    <tr style=\"text-align: right;\">\n      <th></th>\n      <th>id</th>\n      <th>date</th>\n      <th>city</th>\n      <th>category</th>\n      <th>age</th>\n      <th>price</th>\n    </tr>\n  </thead>\n  <tbody>\n    <tr>\n      <th>0</th>\n      <td>1001</td>\n      <td>2013-01-02</td>\n      <td>Beijing</td>\n      <td>100-A</td>\n      <td>23</td>\n      <td>1200.0</td>\n    </tr>\n    <tr>\n      <th>1</th>\n      <td>1002</td>\n      <td>2013-01-03</td>\n      <td>SH</td>\n      <td>100-B</td>\n      <td>44</td>\n      <td>3299.5</td>\n    </tr>\n    <tr>\n      <th>2</th>\n      <td>1003</td>\n      <td>2013-01-04</td>\n      <td>guangzhou</td>\n      <td>110-A</td>\n      <td>54</td>\n      <td>2133.0</td>\n    </tr>\n    <tr>\n      <th>3</th>\n      <td>1004</td>\n      <td>2013-01-05</td>\n      <td>Shenzhen</td>\n      <td>110-C</td>\n      <td>32</td>\n      <td>5433.0</td>\n    </tr>\n    <tr>\n      <th>4</th>\n      <td>1005</td>\n      <td>2013-01-06</td>\n      <td>shanghai</td>\n      <td>210-A</td>\n      <td>34</td>\n      <td>3299.5</td>\n    </tr>\n    <tr>\n      <th>5</th>\n      <td>1006</td>\n      <td>2013-01-07</td>\n      <td>BEIJING</td>\n      <td>130-F</td>\n      <td>32</td>\n      <td>4432.0</td>\n    </tr>\n  </tbody>\n</table>\n</div>"
     },
     "execution_count": 424,
     "metadata": {},
     "output_type": "execute_result"
    }
   ],
   "source": [
    "#清理空格\n",
    "#清理city中的空格字符\n",
    "df['city'] = df['city'].map(str.strip)\n",
    "df"
   ]
  },
  {
   "cell_type": "code",
   "execution_count": 425,
   "metadata": {},
   "outputs": [
    {
     "data": {
      "text/plain": "0      beijing\n1           sh\n2    guangzhou\n3     shenzhen\n4     shanghai\n5      beijing\nName: city, dtype: object"
     },
     "execution_count": 425,
     "metadata": {},
     "output_type": "execute_result"
    }
   ],
   "source": [
    "#大小写转换\n",
    "df['city'].str.lower()\n"
   ]
  },
  {
   "cell_type": "code",
   "execution_count": 426,
   "metadata": {},
   "outputs": [
    {
     "data": {
      "text/plain": "0    1200\n1    3299\n2    2133\n3    5433\n4    3299\n5    4432\nName: price, dtype: int32"
     },
     "execution_count": 426,
     "metadata": {},
     "output_type": "execute_result"
    }
   ],
   "source": [
    "#更该数据格式\n",
    "df['price'].astype('int')"
   ]
  },
  {
   "cell_type": "code",
   "execution_count": 427,
   "metadata": {},
   "outputs": [
    {
     "data": {
      "text/plain": "     id       date       city category-size  age   price\n0  1001 2013-01-02    Beijing         100-A   23  1200.0\n1  1002 2013-01-03         SH         100-B   44  3299.5\n2  1003 2013-01-04  guangzhou         110-A   54  2133.0\n3  1004 2013-01-05   Shenzhen         110-C   32  5433.0\n4  1005 2013-01-06   shanghai         210-A   34  3299.5\n5  1006 2013-01-07    BEIJING         130-F   32  4432.0",
      "text/html": "<div>\n<style scoped>\n    .dataframe tbody tr th:only-of-type {\n        vertical-align: middle;\n    }\n\n    .dataframe tbody tr th {\n        vertical-align: top;\n    }\n\n    .dataframe thead th {\n        text-align: right;\n    }\n</style>\n<table border=\"1\" class=\"dataframe\">\n  <thead>\n    <tr style=\"text-align: right;\">\n      <th></th>\n      <th>id</th>\n      <th>date</th>\n      <th>city</th>\n      <th>category-size</th>\n      <th>age</th>\n      <th>price</th>\n    </tr>\n  </thead>\n  <tbody>\n    <tr>\n      <th>0</th>\n      <td>1001</td>\n      <td>2013-01-02</td>\n      <td>Beijing</td>\n      <td>100-A</td>\n      <td>23</td>\n      <td>1200.0</td>\n    </tr>\n    <tr>\n      <th>1</th>\n      <td>1002</td>\n      <td>2013-01-03</td>\n      <td>SH</td>\n      <td>100-B</td>\n      <td>44</td>\n      <td>3299.5</td>\n    </tr>\n    <tr>\n      <th>2</th>\n      <td>1003</td>\n      <td>2013-01-04</td>\n      <td>guangzhou</td>\n      <td>110-A</td>\n      <td>54</td>\n      <td>2133.0</td>\n    </tr>\n    <tr>\n      <th>3</th>\n      <td>1004</td>\n      <td>2013-01-05</td>\n      <td>Shenzhen</td>\n      <td>110-C</td>\n      <td>32</td>\n      <td>5433.0</td>\n    </tr>\n    <tr>\n      <th>4</th>\n      <td>1005</td>\n      <td>2013-01-06</td>\n      <td>shanghai</td>\n      <td>210-A</td>\n      <td>34</td>\n      <td>3299.5</td>\n    </tr>\n    <tr>\n      <th>5</th>\n      <td>1006</td>\n      <td>2013-01-07</td>\n      <td>BEIJING</td>\n      <td>130-F</td>\n      <td>32</td>\n      <td>4432.0</td>\n    </tr>\n  </tbody>\n</table>\n</div>"
     },
     "execution_count": 427,
     "metadata": {},
     "output_type": "execute_result"
    }
   ],
   "source": [
    "#更改列的名称\n",
    "df.rename(columns={'category': 'category-size'})\n"
   ]
  },
  {
   "cell_type": "code",
   "execution_count": 428,
   "metadata": {},
   "outputs": [
    {
     "data": {
      "text/plain": "0      Beijing\n1           SH\n2    guangzhou\n3     Shenzhen\n4     shanghai\n5      BEIJING\nName: city, dtype: object"
     },
     "execution_count": 428,
     "metadata": {},
     "output_type": "execute_result"
    }
   ],
   "source": [
    "#删除重复值\n",
    "df['city'].drop_duplicates()"
   ]
  },
  {
   "cell_type": "code",
   "execution_count": 429,
   "metadata": {},
   "outputs": [
    {
     "data": {
      "text/plain": "0      Beijing\n1           SH\n2    guangzhou\n3     Shenzhen\n4     shanghai\n5      BEIJING\nName: city, dtype: object"
     },
     "execution_count": 429,
     "metadata": {},
     "output_type": "execute_result"
    }
   ],
   "source": [
    "# 设置keep='last‘’参数后，与之前删除重复值的结果相反，第一位 出现的beijing被删除\n",
    "df['city'].drop_duplicates(keep='last')"
   ]
  },
  {
   "cell_type": "code",
   "execution_count": 430,
   "metadata": {},
   "outputs": [],
   "source": [
    "#数值修改和替换\n",
    "# df['city'].replace('SH','shanghai')"
   ]
  },
  {
   "cell_type": "code",
   "execution_count": 431,
   "metadata": {},
   "outputs": [
    {
     "data": {
      "text/plain": "     id  gender pay  m-point\n0  1001    male   Y       10\n1  1002  female   N       12\n2  1003    male   Y       20\n3  1004  female   Y       40\n4  1005    male   N       40\n5  1006  female   Y       40\n6  1007    male   N       30\n7  1008  female   Y       20",
      "text/html": "<div>\n<style scoped>\n    .dataframe tbody tr th:only-of-type {\n        vertical-align: middle;\n    }\n\n    .dataframe tbody tr th {\n        vertical-align: top;\n    }\n\n    .dataframe thead th {\n        text-align: right;\n    }\n</style>\n<table border=\"1\" class=\"dataframe\">\n  <thead>\n    <tr style=\"text-align: right;\">\n      <th></th>\n      <th>id</th>\n      <th>gender</th>\n      <th>pay</th>\n      <th>m-point</th>\n    </tr>\n  </thead>\n  <tbody>\n    <tr>\n      <th>0</th>\n      <td>1001</td>\n      <td>male</td>\n      <td>Y</td>\n      <td>10</td>\n    </tr>\n    <tr>\n      <th>1</th>\n      <td>1002</td>\n      <td>female</td>\n      <td>N</td>\n      <td>12</td>\n    </tr>\n    <tr>\n      <th>2</th>\n      <td>1003</td>\n      <td>male</td>\n      <td>Y</td>\n      <td>20</td>\n    </tr>\n    <tr>\n      <th>3</th>\n      <td>1004</td>\n      <td>female</td>\n      <td>Y</td>\n      <td>40</td>\n    </tr>\n    <tr>\n      <th>4</th>\n      <td>1005</td>\n      <td>male</td>\n      <td>N</td>\n      <td>40</td>\n    </tr>\n    <tr>\n      <th>5</th>\n      <td>1006</td>\n      <td>female</td>\n      <td>Y</td>\n      <td>40</td>\n    </tr>\n    <tr>\n      <th>6</th>\n      <td>1007</td>\n      <td>male</td>\n      <td>N</td>\n      <td>30</td>\n    </tr>\n    <tr>\n      <th>7</th>\n      <td>1008</td>\n      <td>female</td>\n      <td>Y</td>\n      <td>20</td>\n    </tr>\n  </tbody>\n</table>\n</div>"
     },
     "execution_count": 431,
     "metadata": {},
     "output_type": "execute_result"
    }
   ],
   "source": [
    "#三、数据预处理\n",
    "# 本章主要讲的是数据的预处理，对清洗完的数据进行整理以便后期的统计和分析工作。主要包括数据表的合并，排序，数值分列，数据分组及标记等工作。\n",
    "#建立df1数据表\n",
    "df1=pd.DataFrame({\n",
    "    \"id\":[1001,1002,1003,1004,1005,1006,1007,1008],\n",
    "    \"gender\":['male','female','male','female','male','female','male','female'],\n",
    "    \"pay\":['Y','N','Y','Y','N','Y','N','Y',],\n",
    "    \"m-point\":[10,12,20,40,40,40,30,20]})\n",
    "df1"
   ]
  },
  {
   "cell_type": "code",
   "execution_count": 432,
   "metadata": {},
   "outputs": [
    {
     "data": {
      "text/plain": "     id       date       city category  age   price  gender pay  m-point\n0  1001 2013-01-02    Beijing    100-A   23  1200.0    male   Y       10\n1  1002 2013-01-03         SH    100-B   44  3299.5  female   N       12\n2  1003 2013-01-04  guangzhou    110-A   54  2133.0    male   Y       20\n3  1004 2013-01-05   Shenzhen    110-C   32  5433.0  female   Y       40\n4  1005 2013-01-06   shanghai    210-A   34  3299.5    male   N       40\n5  1006 2013-01-07    BEIJING    130-F   32  4432.0  female   Y       40",
      "text/html": "<div>\n<style scoped>\n    .dataframe tbody tr th:only-of-type {\n        vertical-align: middle;\n    }\n\n    .dataframe tbody tr th {\n        vertical-align: top;\n    }\n\n    .dataframe thead th {\n        text-align: right;\n    }\n</style>\n<table border=\"1\" class=\"dataframe\">\n  <thead>\n    <tr style=\"text-align: right;\">\n      <th></th>\n      <th>id</th>\n      <th>date</th>\n      <th>city</th>\n      <th>category</th>\n      <th>age</th>\n      <th>price</th>\n      <th>gender</th>\n      <th>pay</th>\n      <th>m-point</th>\n    </tr>\n  </thead>\n  <tbody>\n    <tr>\n      <th>0</th>\n      <td>1001</td>\n      <td>2013-01-02</td>\n      <td>Beijing</td>\n      <td>100-A</td>\n      <td>23</td>\n      <td>1200.0</td>\n      <td>male</td>\n      <td>Y</td>\n      <td>10</td>\n    </tr>\n    <tr>\n      <th>1</th>\n      <td>1002</td>\n      <td>2013-01-03</td>\n      <td>SH</td>\n      <td>100-B</td>\n      <td>44</td>\n      <td>3299.5</td>\n      <td>female</td>\n      <td>N</td>\n      <td>12</td>\n    </tr>\n    <tr>\n      <th>2</th>\n      <td>1003</td>\n      <td>2013-01-04</td>\n      <td>guangzhou</td>\n      <td>110-A</td>\n      <td>54</td>\n      <td>2133.0</td>\n      <td>male</td>\n      <td>Y</td>\n      <td>20</td>\n    </tr>\n    <tr>\n      <th>3</th>\n      <td>1004</td>\n      <td>2013-01-05</td>\n      <td>Shenzhen</td>\n      <td>110-C</td>\n      <td>32</td>\n      <td>5433.0</td>\n      <td>female</td>\n      <td>Y</td>\n      <td>40</td>\n    </tr>\n    <tr>\n      <th>4</th>\n      <td>1005</td>\n      <td>2013-01-06</td>\n      <td>shanghai</td>\n      <td>210-A</td>\n      <td>34</td>\n      <td>3299.5</td>\n      <td>male</td>\n      <td>N</td>\n      <td>40</td>\n    </tr>\n    <tr>\n      <th>5</th>\n      <td>1006</td>\n      <td>2013-01-07</td>\n      <td>BEIJING</td>\n      <td>130-F</td>\n      <td>32</td>\n      <td>4432.0</td>\n      <td>female</td>\n      <td>Y</td>\n      <td>40</td>\n    </tr>\n  </tbody>\n</table>\n</div>"
     },
     "execution_count": 432,
     "metadata": {},
     "output_type": "execute_result"
    }
   ],
   "source": [
    "#数据表匹配合并\n",
    "df_inner = pd.merge(df,df1,how='inner')\n",
    "df_inner"
   ]
  },
  {
   "cell_type": "code",
   "execution_count": 433,
   "metadata": {},
   "outputs": [],
   "source": [
    "#合并方式还有left,right,outer 类似mysql的联合查询\n",
    "df_left=pd.merge(df,df1,how='left')\n",
    "df_right=pd.merge(df,df1,how='right')\n",
    "df_outer=pd.merge(df,df1,how='outer')"
   ]
  },
  {
   "cell_type": "code",
   "execution_count": 434,
   "metadata": {},
   "outputs": [
    {
     "data": {
      "text/plain": "     id       date       city category  age   price  gender pay  m-point\n0  1001 2013-01-02    Beijing    100-A   23  1200.0    male   Y       10\n1  1002 2013-01-03         SH    100-B   44  3299.5  female   N       12\n2  1003 2013-01-04  guangzhou    110-A   54  2133.0    male   Y       20\n3  1004 2013-01-05   Shenzhen    110-C   32  5433.0  female   Y       40\n4  1005 2013-01-06   shanghai    210-A   34  3299.5    male   N       40\n5  1006 2013-01-07    BEIJING    130-F   32  4432.0  female   Y       40",
      "text/html": "<div>\n<style scoped>\n    .dataframe tbody tr th:only-of-type {\n        vertical-align: middle;\n    }\n\n    .dataframe tbody tr th {\n        vertical-align: top;\n    }\n\n    .dataframe thead th {\n        text-align: right;\n    }\n</style>\n<table border=\"1\" class=\"dataframe\">\n  <thead>\n    <tr style=\"text-align: right;\">\n      <th></th>\n      <th>id</th>\n      <th>date</th>\n      <th>city</th>\n      <th>category</th>\n      <th>age</th>\n      <th>price</th>\n      <th>gender</th>\n      <th>pay</th>\n      <th>m-point</th>\n    </tr>\n  </thead>\n  <tbody>\n    <tr>\n      <th>0</th>\n      <td>1001</td>\n      <td>2013-01-02</td>\n      <td>Beijing</td>\n      <td>100-A</td>\n      <td>23</td>\n      <td>1200.0</td>\n      <td>male</td>\n      <td>Y</td>\n      <td>10</td>\n    </tr>\n    <tr>\n      <th>1</th>\n      <td>1002</td>\n      <td>2013-01-03</td>\n      <td>SH</td>\n      <td>100-B</td>\n      <td>44</td>\n      <td>3299.5</td>\n      <td>female</td>\n      <td>N</td>\n      <td>12</td>\n    </tr>\n    <tr>\n      <th>2</th>\n      <td>1003</td>\n      <td>2013-01-04</td>\n      <td>guangzhou</td>\n      <td>110-A</td>\n      <td>54</td>\n      <td>2133.0</td>\n      <td>male</td>\n      <td>Y</td>\n      <td>20</td>\n    </tr>\n    <tr>\n      <th>3</th>\n      <td>1004</td>\n      <td>2013-01-05</td>\n      <td>Shenzhen</td>\n      <td>110-C</td>\n      <td>32</td>\n      <td>5433.0</td>\n      <td>female</td>\n      <td>Y</td>\n      <td>40</td>\n    </tr>\n    <tr>\n      <th>4</th>\n      <td>1005</td>\n      <td>2013-01-06</td>\n      <td>shanghai</td>\n      <td>210-A</td>\n      <td>34</td>\n      <td>3299.5</td>\n      <td>male</td>\n      <td>N</td>\n      <td>40</td>\n    </tr>\n    <tr>\n      <th>5</th>\n      <td>1006</td>\n      <td>2013-01-07</td>\n      <td>BEIJING</td>\n      <td>130-F</td>\n      <td>32</td>\n      <td>4432.0</td>\n      <td>female</td>\n      <td>Y</td>\n      <td>40</td>\n    </tr>\n  </tbody>\n</table>\n</div>"
     },
     "execution_count": 434,
     "metadata": {},
     "output_type": "execute_result"
    }
   ],
   "source": [
    "#设置索引列\n",
    "#索引列可以进行数据 提取，汇总，数据筛选\n",
    "df_inner.set_index('id')\n",
    "df_inner"
   ]
  },
  {
   "cell_type": "code",
   "execution_count": 435,
   "metadata": {},
   "outputs": [
    {
     "data": {
      "text/plain": "     id       date       city category  age   price  gender pay  m-point\n0  1001 2013-01-02    Beijing    100-A   23  1200.0    male   Y       10\n3  1004 2013-01-05   Shenzhen    110-C   32  5433.0  female   Y       40\n5  1006 2013-01-07    BEIJING    130-F   32  4432.0  female   Y       40\n4  1005 2013-01-06   shanghai    210-A   34  3299.5    male   N       40\n1  1002 2013-01-03         SH    100-B   44  3299.5  female   N       12\n2  1003 2013-01-04  guangzhou    110-A   54  2133.0    male   Y       20",
      "text/html": "<div>\n<style scoped>\n    .dataframe tbody tr th:only-of-type {\n        vertical-align: middle;\n    }\n\n    .dataframe tbody tr th {\n        vertical-align: top;\n    }\n\n    .dataframe thead th {\n        text-align: right;\n    }\n</style>\n<table border=\"1\" class=\"dataframe\">\n  <thead>\n    <tr style=\"text-align: right;\">\n      <th></th>\n      <th>id</th>\n      <th>date</th>\n      <th>city</th>\n      <th>category</th>\n      <th>age</th>\n      <th>price</th>\n      <th>gender</th>\n      <th>pay</th>\n      <th>m-point</th>\n    </tr>\n  </thead>\n  <tbody>\n    <tr>\n      <th>0</th>\n      <td>1001</td>\n      <td>2013-01-02</td>\n      <td>Beijing</td>\n      <td>100-A</td>\n      <td>23</td>\n      <td>1200.0</td>\n      <td>male</td>\n      <td>Y</td>\n      <td>10</td>\n    </tr>\n    <tr>\n      <th>3</th>\n      <td>1004</td>\n      <td>2013-01-05</td>\n      <td>Shenzhen</td>\n      <td>110-C</td>\n      <td>32</td>\n      <td>5433.0</td>\n      <td>female</td>\n      <td>Y</td>\n      <td>40</td>\n    </tr>\n    <tr>\n      <th>5</th>\n      <td>1006</td>\n      <td>2013-01-07</td>\n      <td>BEIJING</td>\n      <td>130-F</td>\n      <td>32</td>\n      <td>4432.0</td>\n      <td>female</td>\n      <td>Y</td>\n      <td>40</td>\n    </tr>\n    <tr>\n      <th>4</th>\n      <td>1005</td>\n      <td>2013-01-06</td>\n      <td>shanghai</td>\n      <td>210-A</td>\n      <td>34</td>\n      <td>3299.5</td>\n      <td>male</td>\n      <td>N</td>\n      <td>40</td>\n    </tr>\n    <tr>\n      <th>1</th>\n      <td>1002</td>\n      <td>2013-01-03</td>\n      <td>SH</td>\n      <td>100-B</td>\n      <td>44</td>\n      <td>3299.5</td>\n      <td>female</td>\n      <td>N</td>\n      <td>12</td>\n    </tr>\n    <tr>\n      <th>2</th>\n      <td>1003</td>\n      <td>2013-01-04</td>\n      <td>guangzhou</td>\n      <td>110-A</td>\n      <td>54</td>\n      <td>2133.0</td>\n      <td>male</td>\n      <td>Y</td>\n      <td>20</td>\n    </tr>\n  </tbody>\n</table>\n</div>"
     },
     "execution_count": 435,
     "metadata": {},
     "output_type": "execute_result"
    }
   ],
   "source": [
    "#排序 sort_values函数和sort_index函数完成排序\n",
    "df_inner.sort_values(by=['age'])"
   ]
  },
  {
   "cell_type": "code",
   "execution_count": 436,
   "metadata": {},
   "outputs": [
    {
     "data": {
      "text/plain": "     id       date       city category  age   price  gender pay  m-point\n0  1001 2013-01-02    Beijing    100-A   23  1200.0    male   Y       10\n1  1002 2013-01-03         SH    100-B   44  3299.5  female   N       12\n2  1003 2013-01-04  guangzhou    110-A   54  2133.0    male   Y       20\n3  1004 2013-01-05   Shenzhen    110-C   32  5433.0  female   Y       40\n4  1005 2013-01-06   shanghai    210-A   34  3299.5    male   N       40\n5  1006 2013-01-07    BEIJING    130-F   32  4432.0  female   Y       40",
      "text/html": "<div>\n<style scoped>\n    .dataframe tbody tr th:only-of-type {\n        vertical-align: middle;\n    }\n\n    .dataframe tbody tr th {\n        vertical-align: top;\n    }\n\n    .dataframe thead th {\n        text-align: right;\n    }\n</style>\n<table border=\"1\" class=\"dataframe\">\n  <thead>\n    <tr style=\"text-align: right;\">\n      <th></th>\n      <th>id</th>\n      <th>date</th>\n      <th>city</th>\n      <th>category</th>\n      <th>age</th>\n      <th>price</th>\n      <th>gender</th>\n      <th>pay</th>\n      <th>m-point</th>\n    </tr>\n  </thead>\n  <tbody>\n    <tr>\n      <th>0</th>\n      <td>1001</td>\n      <td>2013-01-02</td>\n      <td>Beijing</td>\n      <td>100-A</td>\n      <td>23</td>\n      <td>1200.0</td>\n      <td>male</td>\n      <td>Y</td>\n      <td>10</td>\n    </tr>\n    <tr>\n      <th>1</th>\n      <td>1002</td>\n      <td>2013-01-03</td>\n      <td>SH</td>\n      <td>100-B</td>\n      <td>44</td>\n      <td>3299.5</td>\n      <td>female</td>\n      <td>N</td>\n      <td>12</td>\n    </tr>\n    <tr>\n      <th>2</th>\n      <td>1003</td>\n      <td>2013-01-04</td>\n      <td>guangzhou</td>\n      <td>110-A</td>\n      <td>54</td>\n      <td>2133.0</td>\n      <td>male</td>\n      <td>Y</td>\n      <td>20</td>\n    </tr>\n    <tr>\n      <th>3</th>\n      <td>1004</td>\n      <td>2013-01-05</td>\n      <td>Shenzhen</td>\n      <td>110-C</td>\n      <td>32</td>\n      <td>5433.0</td>\n      <td>female</td>\n      <td>Y</td>\n      <td>40</td>\n    </tr>\n    <tr>\n      <th>4</th>\n      <td>1005</td>\n      <td>2013-01-06</td>\n      <td>shanghai</td>\n      <td>210-A</td>\n      <td>34</td>\n      <td>3299.5</td>\n      <td>male</td>\n      <td>N</td>\n      <td>40</td>\n    </tr>\n    <tr>\n      <th>5</th>\n      <td>1006</td>\n      <td>2013-01-07</td>\n      <td>BEIJING</td>\n      <td>130-F</td>\n      <td>32</td>\n      <td>4432.0</td>\n      <td>female</td>\n      <td>Y</td>\n      <td>40</td>\n    </tr>\n  </tbody>\n</table>\n</div>"
     },
     "execution_count": 436,
     "metadata": {},
     "output_type": "execute_result"
    }
   ],
   "source": [
    "#按索引列排列\n",
    "df_inner.sort_index()"
   ]
  },
  {
   "cell_type": "code",
   "execution_count": 437,
   "metadata": {},
   "outputs": [
    {
     "data": {
      "text/plain": "     id       date       city category  age   price  gender pay  m-point  \\\n0  1001 2013-01-02    Beijing    100-A   23  1200.0    male   Y       10   \n1  1002 2013-01-03         SH    100-B   44  3299.5  female   N       12   \n2  1003 2013-01-04  guangzhou    110-A   54  2133.0    male   Y       20   \n3  1004 2013-01-05   Shenzhen    110-C   32  5433.0  female   Y       40   \n4  1005 2013-01-06   shanghai    210-A   34  3299.5    male   N       40   \n5  1006 2013-01-07    BEIJING    130-F   32  4432.0  female   Y       40   \n\n  price_group  \n0         low  \n1        high  \n2         low  \n3        high  \n4        high  \n5        high  ",
      "text/html": "<div>\n<style scoped>\n    .dataframe tbody tr th:only-of-type {\n        vertical-align: middle;\n    }\n\n    .dataframe tbody tr th {\n        vertical-align: top;\n    }\n\n    .dataframe thead th {\n        text-align: right;\n    }\n</style>\n<table border=\"1\" class=\"dataframe\">\n  <thead>\n    <tr style=\"text-align: right;\">\n      <th></th>\n      <th>id</th>\n      <th>date</th>\n      <th>city</th>\n      <th>category</th>\n      <th>age</th>\n      <th>price</th>\n      <th>gender</th>\n      <th>pay</th>\n      <th>m-point</th>\n      <th>price_group</th>\n    </tr>\n  </thead>\n  <tbody>\n    <tr>\n      <th>0</th>\n      <td>1001</td>\n      <td>2013-01-02</td>\n      <td>Beijing</td>\n      <td>100-A</td>\n      <td>23</td>\n      <td>1200.0</td>\n      <td>male</td>\n      <td>Y</td>\n      <td>10</td>\n      <td>low</td>\n    </tr>\n    <tr>\n      <th>1</th>\n      <td>1002</td>\n      <td>2013-01-03</td>\n      <td>SH</td>\n      <td>100-B</td>\n      <td>44</td>\n      <td>3299.5</td>\n      <td>female</td>\n      <td>N</td>\n      <td>12</td>\n      <td>high</td>\n    </tr>\n    <tr>\n      <th>2</th>\n      <td>1003</td>\n      <td>2013-01-04</td>\n      <td>guangzhou</td>\n      <td>110-A</td>\n      <td>54</td>\n      <td>2133.0</td>\n      <td>male</td>\n      <td>Y</td>\n      <td>20</td>\n      <td>low</td>\n    </tr>\n    <tr>\n      <th>3</th>\n      <td>1004</td>\n      <td>2013-01-05</td>\n      <td>Shenzhen</td>\n      <td>110-C</td>\n      <td>32</td>\n      <td>5433.0</td>\n      <td>female</td>\n      <td>Y</td>\n      <td>40</td>\n      <td>high</td>\n    </tr>\n    <tr>\n      <th>4</th>\n      <td>1005</td>\n      <td>2013-01-06</td>\n      <td>shanghai</td>\n      <td>210-A</td>\n      <td>34</td>\n      <td>3299.5</td>\n      <td>male</td>\n      <td>N</td>\n      <td>40</td>\n      <td>high</td>\n    </tr>\n    <tr>\n      <th>5</th>\n      <td>1006</td>\n      <td>2013-01-07</td>\n      <td>BEIJING</td>\n      <td>130-F</td>\n      <td>32</td>\n      <td>4432.0</td>\n      <td>female</td>\n      <td>Y</td>\n      <td>40</td>\n      <td>high</td>\n    </tr>\n  </tbody>\n</table>\n</div>"
     },
     "execution_count": 437,
     "metadata": {},
     "output_type": "execute_result"
    }
   ],
   "source": [
    "#数据分组\n",
    "'''\n",
    "Excel中可以通过VLOOKUP函数进行近似匹配来完成对数值的分组，或者使用“数据透视表”来完成分组\n",
    "\n",
    "Python中使用Where函数用来对数据进行判断和分组\n",
    "'''\n",
    "#如果price列的值>3000，group列显示high，否则显示low\n",
    "df_inner['price_group'] = np.where(df_inner['price'] > 3000,'high','low')\n",
    "df_inner"
   ]
  },
  {
   "cell_type": "code",
   "execution_count": 438,
   "metadata": {},
   "outputs": [
    {
     "data": {
      "text/plain": "     id       date       city category  age   price  gender pay  m-point  \\\n0  1001 2013-01-02    Beijing    100-A   23  1200.0    male   Y       10   \n1  1002 2013-01-03         SH    100-B   44  3299.5  female   N       12   \n2  1003 2013-01-04  guangzhou    110-A   54  2133.0    male   Y       20   \n3  1004 2013-01-05   Shenzhen    110-C   32  5433.0  female   Y       40   \n4  1005 2013-01-06   shanghai    210-A   34  3299.5    male   N       40   \n5  1006 2013-01-07    BEIJING    130-F   32  4432.0  female   Y       40   \n\n  price_group  sign  \n0         low   NaN  \n1        high   NaN  \n2         low   NaN  \n3        high   1.0  \n4        high   NaN  \n5        high   NaN  ",
      "text/html": "<div>\n<style scoped>\n    .dataframe tbody tr th:only-of-type {\n        vertical-align: middle;\n    }\n\n    .dataframe tbody tr th {\n        vertical-align: top;\n    }\n\n    .dataframe thead th {\n        text-align: right;\n    }\n</style>\n<table border=\"1\" class=\"dataframe\">\n  <thead>\n    <tr style=\"text-align: right;\">\n      <th></th>\n      <th>id</th>\n      <th>date</th>\n      <th>city</th>\n      <th>category</th>\n      <th>age</th>\n      <th>price</th>\n      <th>gender</th>\n      <th>pay</th>\n      <th>m-point</th>\n      <th>price_group</th>\n      <th>sign</th>\n    </tr>\n  </thead>\n  <tbody>\n    <tr>\n      <th>0</th>\n      <td>1001</td>\n      <td>2013-01-02</td>\n      <td>Beijing</td>\n      <td>100-A</td>\n      <td>23</td>\n      <td>1200.0</td>\n      <td>male</td>\n      <td>Y</td>\n      <td>10</td>\n      <td>low</td>\n      <td>NaN</td>\n    </tr>\n    <tr>\n      <th>1</th>\n      <td>1002</td>\n      <td>2013-01-03</td>\n      <td>SH</td>\n      <td>100-B</td>\n      <td>44</td>\n      <td>3299.5</td>\n      <td>female</td>\n      <td>N</td>\n      <td>12</td>\n      <td>high</td>\n      <td>NaN</td>\n    </tr>\n    <tr>\n      <th>2</th>\n      <td>1003</td>\n      <td>2013-01-04</td>\n      <td>guangzhou</td>\n      <td>110-A</td>\n      <td>54</td>\n      <td>2133.0</td>\n      <td>male</td>\n      <td>Y</td>\n      <td>20</td>\n      <td>low</td>\n      <td>NaN</td>\n    </tr>\n    <tr>\n      <th>3</th>\n      <td>1004</td>\n      <td>2013-01-05</td>\n      <td>Shenzhen</td>\n      <td>110-C</td>\n      <td>32</td>\n      <td>5433.0</td>\n      <td>female</td>\n      <td>Y</td>\n      <td>40</td>\n      <td>high</td>\n      <td>1.0</td>\n    </tr>\n    <tr>\n      <th>4</th>\n      <td>1005</td>\n      <td>2013-01-06</td>\n      <td>shanghai</td>\n      <td>210-A</td>\n      <td>34</td>\n      <td>3299.5</td>\n      <td>male</td>\n      <td>N</td>\n      <td>40</td>\n      <td>high</td>\n      <td>NaN</td>\n    </tr>\n    <tr>\n      <th>5</th>\n      <td>1006</td>\n      <td>2013-01-07</td>\n      <td>BEIJING</td>\n      <td>130-F</td>\n      <td>32</td>\n      <td>4432.0</td>\n      <td>female</td>\n      <td>Y</td>\n      <td>40</td>\n      <td>high</td>\n      <td>NaN</td>\n    </tr>\n  </tbody>\n</table>\n</div>"
     },
     "execution_count": 438,
     "metadata": {},
     "output_type": "execute_result"
    }
   ],
   "source": [
    "#对复合多个条件的数据进行分组标记 多个条件用括号包着  用| &连接\n",
    "df_inner.loc[(df_inner['city'] == 'Shenzhen') & (df_inner['price']\n",
    ">= 4000), 'sign']=1\n",
    "df_inner"
   ]
  },
  {
   "cell_type": "code",
   "execution_count": 439,
   "metadata": {},
   "outputs": [],
   "source": [
    "#数据分列\n",
    "'''\n",
    "在Python中使用split函数实现分列在数据表中category列中的数据包含有两个信息，前面的数字为\n",
    "类别id，后面的字母为size值。中间以连字符进行连接。我们使用split函数对这个字段进行拆分，\n",
    "并将拆分后的数据表匹配回原数据表中。\n",
    "'''\n",
    "split = pd.DataFrame((x.split('-') for x in df_inner['category']),index = df_inner.index,columns=['category','size'])"
   ]
  },
  {
   "cell_type": "code",
   "execution_count": 440,
   "metadata": {},
   "outputs": [
    {
     "data": {
      "text/plain": "     id       date       city category_x  age   price  gender pay  m-point  \\\n0  1001 2013-01-02    Beijing      100-A   23  1200.0    male   Y       10   \n1  1002 2013-01-03         SH      100-B   44  3299.5  female   N       12   \n2  1003 2013-01-04  guangzhou      110-A   54  2133.0    male   Y       20   \n3  1004 2013-01-05   Shenzhen      110-C   32  5433.0  female   Y       40   \n4  1005 2013-01-06   shanghai      210-A   34  3299.5    male   N       40   \n5  1006 2013-01-07    BEIJING      130-F   32  4432.0  female   Y       40   \n\n  price_group  sign category_y size  \n0         low   NaN        100    A  \n1        high   NaN        100    B  \n2         low   NaN        110    A  \n3        high   1.0        110    C  \n4        high   NaN        210    A  \n5        high   NaN        130    F  ",
      "text/html": "<div>\n<style scoped>\n    .dataframe tbody tr th:only-of-type {\n        vertical-align: middle;\n    }\n\n    .dataframe tbody tr th {\n        vertical-align: top;\n    }\n\n    .dataframe thead th {\n        text-align: right;\n    }\n</style>\n<table border=\"1\" class=\"dataframe\">\n  <thead>\n    <tr style=\"text-align: right;\">\n      <th></th>\n      <th>id</th>\n      <th>date</th>\n      <th>city</th>\n      <th>category_x</th>\n      <th>age</th>\n      <th>price</th>\n      <th>gender</th>\n      <th>pay</th>\n      <th>m-point</th>\n      <th>price_group</th>\n      <th>sign</th>\n      <th>category_y</th>\n      <th>size</th>\n    </tr>\n  </thead>\n  <tbody>\n    <tr>\n      <th>0</th>\n      <td>1001</td>\n      <td>2013-01-02</td>\n      <td>Beijing</td>\n      <td>100-A</td>\n      <td>23</td>\n      <td>1200.0</td>\n      <td>male</td>\n      <td>Y</td>\n      <td>10</td>\n      <td>low</td>\n      <td>NaN</td>\n      <td>100</td>\n      <td>A</td>\n    </tr>\n    <tr>\n      <th>1</th>\n      <td>1002</td>\n      <td>2013-01-03</td>\n      <td>SH</td>\n      <td>100-B</td>\n      <td>44</td>\n      <td>3299.5</td>\n      <td>female</td>\n      <td>N</td>\n      <td>12</td>\n      <td>high</td>\n      <td>NaN</td>\n      <td>100</td>\n      <td>B</td>\n    </tr>\n    <tr>\n      <th>2</th>\n      <td>1003</td>\n      <td>2013-01-04</td>\n      <td>guangzhou</td>\n      <td>110-A</td>\n      <td>54</td>\n      <td>2133.0</td>\n      <td>male</td>\n      <td>Y</td>\n      <td>20</td>\n      <td>low</td>\n      <td>NaN</td>\n      <td>110</td>\n      <td>A</td>\n    </tr>\n    <tr>\n      <th>3</th>\n      <td>1004</td>\n      <td>2013-01-05</td>\n      <td>Shenzhen</td>\n      <td>110-C</td>\n      <td>32</td>\n      <td>5433.0</td>\n      <td>female</td>\n      <td>Y</td>\n      <td>40</td>\n      <td>high</td>\n      <td>1.0</td>\n      <td>110</td>\n      <td>C</td>\n    </tr>\n    <tr>\n      <th>4</th>\n      <td>1005</td>\n      <td>2013-01-06</td>\n      <td>shanghai</td>\n      <td>210-A</td>\n      <td>34</td>\n      <td>3299.5</td>\n      <td>male</td>\n      <td>N</td>\n      <td>40</td>\n      <td>high</td>\n      <td>NaN</td>\n      <td>210</td>\n      <td>A</td>\n    </tr>\n    <tr>\n      <th>5</th>\n      <td>1006</td>\n      <td>2013-01-07</td>\n      <td>BEIJING</td>\n      <td>130-F</td>\n      <td>32</td>\n      <td>4432.0</td>\n      <td>female</td>\n      <td>Y</td>\n      <td>40</td>\n      <td>high</td>\n      <td>NaN</td>\n      <td>130</td>\n      <td>F</td>\n    </tr>\n  </tbody>\n</table>\n</div>"
     },
     "execution_count": 440,
     "metadata": {},
     "output_type": "execute_result"
    }
   ],
   "source": [
    "#将完成分列后的数据表与原df_inner数据表进行匹配\n",
    "df_inner=pd.merge(df_inner,split,right_index=True, left_index=True)\n",
    "df_inner"
   ]
  },
  {
   "cell_type": "code",
   "execution_count": 441,
   "metadata": {},
   "outputs": [
    {
     "data": {
      "text/plain": "id                            1004\ndate           2013-01-05 00:00:00\ncity                      Shenzhen\ncategory_x                   110-C\nage                             32\nprice                       5433.0\ngender                      female\npay                              Y\nm-point                         40\nprice_group                   high\nsign                           1.0\ncategory_y                     110\nsize                             C\nName: 3, dtype: object"
     },
     "execution_count": 441,
     "metadata": {},
     "output_type": "execute_result"
    }
   ],
   "source": [
    "#五、数据提取\n",
    "#按索引提取单行的数值\n",
    "df_inner.loc[3]"
   ]
  },
  {
   "cell_type": "code",
   "execution_count": 442,
   "metadata": {},
   "outputs": [
    {
     "data": {
      "text/plain": "     id       date       city category_x  age   price  gender pay  m-point  \\\n0  1001 2013-01-02    Beijing      100-A   23  1200.0    male   Y       10   \n1  1002 2013-01-03         SH      100-B   44  3299.5  female   N       12   \n2  1003 2013-01-04  guangzhou      110-A   54  2133.0    male   Y       20   \n3  1004 2013-01-05   Shenzhen      110-C   32  5433.0  female   Y       40   \n4  1005 2013-01-06   shanghai      210-A   34  3299.5    male   N       40   \n5  1006 2013-01-07    BEIJING      130-F   32  4432.0  female   Y       40   \n\n  price_group  sign category_y size  \n0         low   NaN        100    A  \n1        high   NaN        100    B  \n2         low   NaN        110    A  \n3        high   1.0        110    C  \n4        high   NaN        210    A  \n5        high   NaN        130    F  ",
      "text/html": "<div>\n<style scoped>\n    .dataframe tbody tr th:only-of-type {\n        vertical-align: middle;\n    }\n\n    .dataframe tbody tr th {\n        vertical-align: top;\n    }\n\n    .dataframe thead th {\n        text-align: right;\n    }\n</style>\n<table border=\"1\" class=\"dataframe\">\n  <thead>\n    <tr style=\"text-align: right;\">\n      <th></th>\n      <th>id</th>\n      <th>date</th>\n      <th>city</th>\n      <th>category_x</th>\n      <th>age</th>\n      <th>price</th>\n      <th>gender</th>\n      <th>pay</th>\n      <th>m-point</th>\n      <th>price_group</th>\n      <th>sign</th>\n      <th>category_y</th>\n      <th>size</th>\n    </tr>\n  </thead>\n  <tbody>\n    <tr>\n      <th>0</th>\n      <td>1001</td>\n      <td>2013-01-02</td>\n      <td>Beijing</td>\n      <td>100-A</td>\n      <td>23</td>\n      <td>1200.0</td>\n      <td>male</td>\n      <td>Y</td>\n      <td>10</td>\n      <td>low</td>\n      <td>NaN</td>\n      <td>100</td>\n      <td>A</td>\n    </tr>\n    <tr>\n      <th>1</th>\n      <td>1002</td>\n      <td>2013-01-03</td>\n      <td>SH</td>\n      <td>100-B</td>\n      <td>44</td>\n      <td>3299.5</td>\n      <td>female</td>\n      <td>N</td>\n      <td>12</td>\n      <td>high</td>\n      <td>NaN</td>\n      <td>100</td>\n      <td>B</td>\n    </tr>\n    <tr>\n      <th>2</th>\n      <td>1003</td>\n      <td>2013-01-04</td>\n      <td>guangzhou</td>\n      <td>110-A</td>\n      <td>54</td>\n      <td>2133.0</td>\n      <td>male</td>\n      <td>Y</td>\n      <td>20</td>\n      <td>low</td>\n      <td>NaN</td>\n      <td>110</td>\n      <td>A</td>\n    </tr>\n    <tr>\n      <th>3</th>\n      <td>1004</td>\n      <td>2013-01-05</td>\n      <td>Shenzhen</td>\n      <td>110-C</td>\n      <td>32</td>\n      <td>5433.0</td>\n      <td>female</td>\n      <td>Y</td>\n      <td>40</td>\n      <td>high</td>\n      <td>1.0</td>\n      <td>110</td>\n      <td>C</td>\n    </tr>\n    <tr>\n      <th>4</th>\n      <td>1005</td>\n      <td>2013-01-06</td>\n      <td>shanghai</td>\n      <td>210-A</td>\n      <td>34</td>\n      <td>3299.5</td>\n      <td>male</td>\n      <td>N</td>\n      <td>40</td>\n      <td>high</td>\n      <td>NaN</td>\n      <td>210</td>\n      <td>A</td>\n    </tr>\n    <tr>\n      <th>5</th>\n      <td>1006</td>\n      <td>2013-01-07</td>\n      <td>BEIJING</td>\n      <td>130-F</td>\n      <td>32</td>\n      <td>4432.0</td>\n      <td>female</td>\n      <td>Y</td>\n      <td>40</td>\n      <td>high</td>\n      <td>NaN</td>\n      <td>130</td>\n      <td>F</td>\n    </tr>\n  </tbody>\n</table>\n</div>"
     },
     "execution_count": 442,
     "metadata": {},
     "output_type": "execute_result"
    }
   ],
   "source": [
    "#按索引提取区域行数值\n",
    "df_inner.loc[0:5]"
   ]
  },
  {
   "cell_type": "code",
   "execution_count": 443,
   "metadata": {},
   "outputs": [
    {
     "data": {
      "text/plain": "   index    id       date       city category_x  age   price  gender pay  \\\n0      0  1001 2013-01-02    Beijing      100-A   23  1200.0    male   Y   \n1      1  1002 2013-01-03         SH      100-B   44  3299.5  female   N   \n2      2  1003 2013-01-04  guangzhou      110-A   54  2133.0    male   Y   \n3      3  1004 2013-01-05   Shenzhen      110-C   32  5433.0  female   Y   \n4      4  1005 2013-01-06   shanghai      210-A   34  3299.5    male   N   \n5      5  1006 2013-01-07    BEIJING      130-F   32  4432.0  female   Y   \n\n   m-point price_group  sign category_y size  \n0       10         low   NaN        100    A  \n1       12        high   NaN        100    B  \n2       20         low   NaN        110    A  \n3       40        high   1.0        110    C  \n4       40        high   NaN        210    A  \n5       40        high   NaN        130    F  ",
      "text/html": "<div>\n<style scoped>\n    .dataframe tbody tr th:only-of-type {\n        vertical-align: middle;\n    }\n\n    .dataframe tbody tr th {\n        vertical-align: top;\n    }\n\n    .dataframe thead th {\n        text-align: right;\n    }\n</style>\n<table border=\"1\" class=\"dataframe\">\n  <thead>\n    <tr style=\"text-align: right;\">\n      <th></th>\n      <th>index</th>\n      <th>id</th>\n      <th>date</th>\n      <th>city</th>\n      <th>category_x</th>\n      <th>age</th>\n      <th>price</th>\n      <th>gender</th>\n      <th>pay</th>\n      <th>m-point</th>\n      <th>price_group</th>\n      <th>sign</th>\n      <th>category_y</th>\n      <th>size</th>\n    </tr>\n  </thead>\n  <tbody>\n    <tr>\n      <th>0</th>\n      <td>0</td>\n      <td>1001</td>\n      <td>2013-01-02</td>\n      <td>Beijing</td>\n      <td>100-A</td>\n      <td>23</td>\n      <td>1200.0</td>\n      <td>male</td>\n      <td>Y</td>\n      <td>10</td>\n      <td>low</td>\n      <td>NaN</td>\n      <td>100</td>\n      <td>A</td>\n    </tr>\n    <tr>\n      <th>1</th>\n      <td>1</td>\n      <td>1002</td>\n      <td>2013-01-03</td>\n      <td>SH</td>\n      <td>100-B</td>\n      <td>44</td>\n      <td>3299.5</td>\n      <td>female</td>\n      <td>N</td>\n      <td>12</td>\n      <td>high</td>\n      <td>NaN</td>\n      <td>100</td>\n      <td>B</td>\n    </tr>\n    <tr>\n      <th>2</th>\n      <td>2</td>\n      <td>1003</td>\n      <td>2013-01-04</td>\n      <td>guangzhou</td>\n      <td>110-A</td>\n      <td>54</td>\n      <td>2133.0</td>\n      <td>male</td>\n      <td>Y</td>\n      <td>20</td>\n      <td>low</td>\n      <td>NaN</td>\n      <td>110</td>\n      <td>A</td>\n    </tr>\n    <tr>\n      <th>3</th>\n      <td>3</td>\n      <td>1004</td>\n      <td>2013-01-05</td>\n      <td>Shenzhen</td>\n      <td>110-C</td>\n      <td>32</td>\n      <td>5433.0</td>\n      <td>female</td>\n      <td>Y</td>\n      <td>40</td>\n      <td>high</td>\n      <td>1.0</td>\n      <td>110</td>\n      <td>C</td>\n    </tr>\n    <tr>\n      <th>4</th>\n      <td>4</td>\n      <td>1005</td>\n      <td>2013-01-06</td>\n      <td>shanghai</td>\n      <td>210-A</td>\n      <td>34</td>\n      <td>3299.5</td>\n      <td>male</td>\n      <td>N</td>\n      <td>40</td>\n      <td>high</td>\n      <td>NaN</td>\n      <td>210</td>\n      <td>A</td>\n    </tr>\n    <tr>\n      <th>5</th>\n      <td>5</td>\n      <td>1006</td>\n      <td>2013-01-07</td>\n      <td>BEIJING</td>\n      <td>130-F</td>\n      <td>32</td>\n      <td>4432.0</td>\n      <td>female</td>\n      <td>Y</td>\n      <td>40</td>\n      <td>high</td>\n      <td>NaN</td>\n      <td>130</td>\n      <td>F</td>\n    </tr>\n  </tbody>\n</table>\n</div>"
     },
     "execution_count": 443,
     "metadata": {},
     "output_type": "execute_result"
    }
   ],
   "source": [
    "# Reset_index函数用于恢复索引，这里我们重新将date字段的日期 设置为数据表的索引，并按日期进行数据提取。\n",
    "#重设索引\n",
    "df_inner.reset_index()"
   ]
  },
  {
   "cell_type": "code",
   "execution_count": 444,
   "metadata": {},
   "outputs": [],
   "source": [
    "#设置日期为索引\n",
    "df_inner = df_inner.set_index('date')"
   ]
  },
  {
   "cell_type": "code",
   "execution_count": 445,
   "metadata": {},
   "outputs": [
    {
     "data": {
      "text/plain": "              id       city\ndate                       \n2013-01-02  1001    Beijing\n2013-01-03  1002         SH\n2013-01-04  1003  guangzhou",
      "text/html": "<div>\n<style scoped>\n    .dataframe tbody tr th:only-of-type {\n        vertical-align: middle;\n    }\n\n    .dataframe tbody tr th {\n        vertical-align: top;\n    }\n\n    .dataframe thead th {\n        text-align: right;\n    }\n</style>\n<table border=\"1\" class=\"dataframe\">\n  <thead>\n    <tr style=\"text-align: right;\">\n      <th></th>\n      <th>id</th>\n      <th>city</th>\n    </tr>\n    <tr>\n      <th>date</th>\n      <th></th>\n      <th></th>\n    </tr>\n  </thead>\n  <tbody>\n    <tr>\n      <th>2013-01-02</th>\n      <td>1001</td>\n      <td>Beijing</td>\n    </tr>\n    <tr>\n      <th>2013-01-03</th>\n      <td>1002</td>\n      <td>SH</td>\n    </tr>\n    <tr>\n      <th>2013-01-04</th>\n      <td>1003</td>\n      <td>guangzhou</td>\n    </tr>\n  </tbody>\n</table>\n</div>"
     },
     "execution_count": 445,
     "metadata": {},
     "output_type": "execute_result"
    }
   ],
   "source": [
    "#按位置提取 iloc\n",
    "# 使用iloc函数按位置对数据表中的数据进行提取，这里冒号前后 的数字不再是索引的标签名称，而是数据所在的位置，从0开始。\n",
    "#使用iloc按位置区域提取数据\n",
    "df_inner.iloc[:3,:2]"
   ]
  },
  {
   "cell_type": "code",
   "execution_count": 446,
   "metadata": {},
   "outputs": [],
   "source": [
    "# 3.按标签和位置提取（ix）\n",
    "# df_inner.ix[:'2013-01-03',:4] \n"
   ]
  },
  {
   "cell_type": "code",
   "execution_count": 447,
   "metadata": {},
   "outputs": [
    {
     "data": {
      "text/plain": "date\n2013-01-02     True\n2013-01-03    False\n2013-01-04    False\n2013-01-05    False\n2013-01-06    False\n2013-01-07    False\nName: city, dtype: bool"
     },
     "execution_count": 447,
     "metadata": {},
     "output_type": "execute_result"
    }
   ],
   "source": [
    "# 4.按条件提取（区域和条件值）\n",
    "# 使用loc和isin两个函数配合使用，按指定条件对数据进行提取\n",
    "#判断city列的值是否为beijing\n",
    "df_inner['city'].isin(['Beijing'])"
   ]
  },
  {
   "cell_type": "code",
   "execution_count": 448,
   "metadata": {},
   "outputs": [
    {
     "data": {
      "text/plain": "              id      city category_x  age   price gender pay  m-point  \\\ndate                                                                     \n2013-01-06  1005  shanghai      210-A   34  3299.5   male   N       40   \n\n           price_group  sign category_y size  \ndate                                          \n2013-01-06        high   NaN        210    A  ",
      "text/html": "<div>\n<style scoped>\n    .dataframe tbody tr th:only-of-type {\n        vertical-align: middle;\n    }\n\n    .dataframe tbody tr th {\n        vertical-align: top;\n    }\n\n    .dataframe thead th {\n        text-align: right;\n    }\n</style>\n<table border=\"1\" class=\"dataframe\">\n  <thead>\n    <tr style=\"text-align: right;\">\n      <th></th>\n      <th>id</th>\n      <th>city</th>\n      <th>category_x</th>\n      <th>age</th>\n      <th>price</th>\n      <th>gender</th>\n      <th>pay</th>\n      <th>m-point</th>\n      <th>price_group</th>\n      <th>sign</th>\n      <th>category_y</th>\n      <th>size</th>\n    </tr>\n    <tr>\n      <th>date</th>\n      <th></th>\n      <th></th>\n      <th></th>\n      <th></th>\n      <th></th>\n      <th></th>\n      <th></th>\n      <th></th>\n      <th></th>\n      <th></th>\n      <th></th>\n      <th></th>\n    </tr>\n  </thead>\n  <tbody>\n    <tr>\n      <th>2013-01-06</th>\n      <td>1005</td>\n      <td>shanghai</td>\n      <td>210-A</td>\n      <td>34</td>\n      <td>3299.5</td>\n      <td>male</td>\n      <td>N</td>\n      <td>40</td>\n      <td>high</td>\n      <td>NaN</td>\n      <td>210</td>\n      <td>A</td>\n    </tr>\n  </tbody>\n</table>\n</div>"
     },
     "execution_count": 448,
     "metadata": {},
     "output_type": "execute_result"
    }
   ],
   "source": [
    "# 将isin函数嵌套到loc的数据提取函数中，将判断结果为Ture数据 提取出来。这里我们把判断条件改为city值是否为beijing和shanghai。如果是就把这条数据提取出来。\n",
    "#先判断city列里是否包含beijing和shanghai，然后将复合条件的数据提取出来。\n",
    "df_inner.loc[df_inner['city'].isin(['beijing','shanghai'])]\n"
   ]
  },
  {
   "cell_type": "code",
   "execution_count": 449,
   "metadata": {},
   "outputs": [
    {
     "data": {
      "text/plain": "Empty DataFrame\nColumns: [id, city, age, category_x, gender]\nIndex: []",
      "text/html": "<div>\n<style scoped>\n    .dataframe tbody tr th:only-of-type {\n        vertical-align: middle;\n    }\n\n    .dataframe tbody tr th {\n        vertical-align: top;\n    }\n\n    .dataframe thead th {\n        text-align: right;\n    }\n</style>\n<table border=\"1\" class=\"dataframe\">\n  <thead>\n    <tr style=\"text-align: right;\">\n      <th></th>\n      <th>id</th>\n      <th>city</th>\n      <th>age</th>\n      <th>category_x</th>\n      <th>gender</th>\n    </tr>\n    <tr>\n      <th>date</th>\n      <th></th>\n      <th></th>\n      <th></th>\n      <th></th>\n      <th></th>\n    </tr>\n  </thead>\n  <tbody>\n  </tbody>\n</table>\n</div>"
     },
     "execution_count": 449,
     "metadata": {},
     "output_type": "execute_result"
    }
   ],
   "source": [
    "#六、数据筛选\n",
    "# Python中使用loc函数配合筛选条件来完成筛选功能。配合sum和count函数还能实现Excel中sumif和countif函数的功能。使用“与”条件进行筛选，条件是年龄大于25岁，并且城市为 beijing。\n",
    "#使用与 条件进行筛选\n",
    "df_inner.loc[(df_inner['age'] > 25) & (df_inner['city'] == 'Beijing'), ['id','city','age','category_x','gender']]"
   ]
  },
  {
   "cell_type": "code",
   "execution_count": 450,
   "metadata": {},
   "outputs": [
    {
     "data": {
      "text/plain": "              id       city  age category_x  gender\ndate                                               \n2013-01-02  1001    Beijing   23      100-A    male\n2013-01-03  1002         SH   44      100-B  female\n2013-01-04  1003  guangzhou   54      110-A    male\n2013-01-05  1004   Shenzhen   32      110-C  female\n2013-01-06  1005   shanghai   34      210-A    male\n2013-01-07  1006    BEIJING   32      130-F  female",
      "text/html": "<div>\n<style scoped>\n    .dataframe tbody tr th:only-of-type {\n        vertical-align: middle;\n    }\n\n    .dataframe tbody tr th {\n        vertical-align: top;\n    }\n\n    .dataframe thead th {\n        text-align: right;\n    }\n</style>\n<table border=\"1\" class=\"dataframe\">\n  <thead>\n    <tr style=\"text-align: right;\">\n      <th></th>\n      <th>id</th>\n      <th>city</th>\n      <th>age</th>\n      <th>category_x</th>\n      <th>gender</th>\n    </tr>\n    <tr>\n      <th>date</th>\n      <th></th>\n      <th></th>\n      <th></th>\n      <th></th>\n      <th></th>\n    </tr>\n  </thead>\n  <tbody>\n    <tr>\n      <th>2013-01-02</th>\n      <td>1001</td>\n      <td>Beijing</td>\n      <td>23</td>\n      <td>100-A</td>\n      <td>male</td>\n    </tr>\n    <tr>\n      <th>2013-01-03</th>\n      <td>1002</td>\n      <td>SH</td>\n      <td>44</td>\n      <td>100-B</td>\n      <td>female</td>\n    </tr>\n    <tr>\n      <th>2013-01-04</th>\n      <td>1003</td>\n      <td>guangzhou</td>\n      <td>54</td>\n      <td>110-A</td>\n      <td>male</td>\n    </tr>\n    <tr>\n      <th>2013-01-05</th>\n      <td>1004</td>\n      <td>Shenzhen</td>\n      <td>32</td>\n      <td>110-C</td>\n      <td>female</td>\n    </tr>\n    <tr>\n      <th>2013-01-06</th>\n      <td>1005</td>\n      <td>shanghai</td>\n      <td>34</td>\n      <td>210-A</td>\n      <td>male</td>\n    </tr>\n    <tr>\n      <th>2013-01-07</th>\n      <td>1006</td>\n      <td>BEIJING</td>\n      <td>32</td>\n      <td>130-F</td>\n      <td>female</td>\n    </tr>\n  </tbody>\n</table>\n</div>"
     },
     "execution_count": 450,
     "metadata": {},
     "output_type": "execute_result"
    }
   ],
   "source": [
    "#使用或 条件进行筛选\n",
    "df_inner.loc[(df_inner['age'] > 25) | (df_inner['city'] == 'Beijing'), ['id','city','age','category_x','gender']]"
   ]
  },
  {
   "cell_type": "code",
   "execution_count": 451,
   "metadata": {},
   "outputs": [
    {
     "data": {
      "text/plain": "              id       city  age category_x  gender\ndate                                               \n2013-01-02  1001    Beijing   23      100-A    male\n2013-01-03  1002         SH   44      100-B  female\n2013-01-04  1003  guangzhou   54      110-A    male\n2013-01-05  1004   Shenzhen   32      110-C  female\n2013-01-06  1005   shanghai   34      210-A    male\n2013-01-07  1006    BEIJING   32      130-F  female",
      "text/html": "<div>\n<style scoped>\n    .dataframe tbody tr th:only-of-type {\n        vertical-align: middle;\n    }\n\n    .dataframe tbody tr th {\n        vertical-align: top;\n    }\n\n    .dataframe thead th {\n        text-align: right;\n    }\n</style>\n<table border=\"1\" class=\"dataframe\">\n  <thead>\n    <tr style=\"text-align: right;\">\n      <th></th>\n      <th>id</th>\n      <th>city</th>\n      <th>age</th>\n      <th>category_x</th>\n      <th>gender</th>\n    </tr>\n    <tr>\n      <th>date</th>\n      <th></th>\n      <th></th>\n      <th></th>\n      <th></th>\n      <th></th>\n    </tr>\n  </thead>\n  <tbody>\n    <tr>\n      <th>2013-01-02</th>\n      <td>1001</td>\n      <td>Beijing</td>\n      <td>23</td>\n      <td>100-A</td>\n      <td>male</td>\n    </tr>\n    <tr>\n      <th>2013-01-03</th>\n      <td>1002</td>\n      <td>SH</td>\n      <td>44</td>\n      <td>100-B</td>\n      <td>female</td>\n    </tr>\n    <tr>\n      <th>2013-01-04</th>\n      <td>1003</td>\n      <td>guangzhou</td>\n      <td>54</td>\n      <td>110-A</td>\n      <td>male</td>\n    </tr>\n    <tr>\n      <th>2013-01-05</th>\n      <td>1004</td>\n      <td>Shenzhen</td>\n      <td>32</td>\n      <td>110-C</td>\n      <td>female</td>\n    </tr>\n    <tr>\n      <th>2013-01-06</th>\n      <td>1005</td>\n      <td>shanghai</td>\n      <td>34</td>\n      <td>210-A</td>\n      <td>male</td>\n    </tr>\n    <tr>\n      <th>2013-01-07</th>\n      <td>1006</td>\n      <td>BEIJING</td>\n      <td>32</td>\n      <td>130-F</td>\n      <td>female</td>\n    </tr>\n  </tbody>\n</table>\n</div>"
     },
     "execution_count": 451,
     "metadata": {},
     "output_type": "execute_result"
    }
   ],
   "source": [
    "#使用“非”条件进行筛选\n",
    "df_inner.loc[(df_inner['city'] != 'beijing'), ['id','city','age','category_x','gender']]"
   ]
  },
  {
   "cell_type": "code",
   "execution_count": 452,
   "metadata": {},
   "outputs": [
    {
     "ename": "AttributeError",
     "evalue": "'DataFrame' object has no attribute 'sort'",
     "output_type": "error",
     "traceback": [
      "\u001B[1;31m---------------------------------------------------------------------------\u001B[0m",
      "\u001B[1;31mAttributeError\u001B[0m                            Traceback (most recent call last)",
      "\u001B[1;32m~\\AppData\\Local\\Temp/ipykernel_7724/1304211739.py\u001B[0m in \u001B[0;36m<module>\u001B[1;34m\u001B[0m\n\u001B[0;32m      1\u001B[0m \u001B[1;31m#对筛选后的数据按city列进行计数\u001B[0m\u001B[1;33m\u001B[0m\u001B[1;33m\u001B[0m\u001B[0m\n\u001B[1;32m----> 2\u001B[1;33m \u001B[0mdf_inner\u001B[0m\u001B[1;33m.\u001B[0m\u001B[0mloc\u001B[0m\u001B[1;33m[\u001B[0m\u001B[1;33m(\u001B[0m\u001B[0mdf_inner\u001B[0m\u001B[1;33m[\u001B[0m\u001B[1;34m'city'\u001B[0m\u001B[1;33m]\u001B[0m \u001B[1;33m!=\u001B[0m \u001B[1;34m'beijing'\u001B[0m\u001B[1;33m)\u001B[0m\u001B[1;33m,\u001B[0m \u001B[1;33m[\u001B[0m\u001B[1;34m'id'\u001B[0m\u001B[1;33m,\u001B[0m\u001B[1;34m'city'\u001B[0m\u001B[1;33m,\u001B[0m\u001B[1;34m'age'\u001B[0m\u001B[1;33m,\u001B[0m\u001B[1;34m'category_x'\u001B[0m\u001B[1;33m,\u001B[0m\u001B[1;34m'gender'\u001B[0m\u001B[1;33m]\u001B[0m\u001B[1;33m]\u001B[0m\u001B[1;33m.\u001B[0m\u001B[0msort\u001B[0m\u001B[1;33m(\u001B[0m\u001B[1;33m[\u001B[0m\u001B[1;34m'id'\u001B[0m\u001B[1;33m]\u001B[0m\u001B[1;33m)\u001B[0m\u001B[1;33m.\u001B[0m\u001B[0mcity\u001B[0m\u001B[1;33m.\u001B[0m\u001B[0mcount\u001B[0m\u001B[1;33m(\u001B[0m\u001B[1;33m)\u001B[0m\u001B[1;33m\u001B[0m\u001B[1;33m\u001B[0m\u001B[0m\n\u001B[0m\u001B[0;32m      3\u001B[0m \u001B[1;33m\u001B[0m\u001B[0m\n",
      "\u001B[1;32mD:\\Anaconda3\\lib\\site-packages\\pandas\\core\\generic.py\u001B[0m in \u001B[0;36m__getattr__\u001B[1;34m(self, name)\u001B[0m\n\u001B[0;32m   5485\u001B[0m         ):\n\u001B[0;32m   5486\u001B[0m             \u001B[1;32mreturn\u001B[0m \u001B[0mself\u001B[0m\u001B[1;33m[\u001B[0m\u001B[0mname\u001B[0m\u001B[1;33m]\u001B[0m\u001B[1;33m\u001B[0m\u001B[1;33m\u001B[0m\u001B[0m\n\u001B[1;32m-> 5487\u001B[1;33m         \u001B[1;32mreturn\u001B[0m \u001B[0mobject\u001B[0m\u001B[1;33m.\u001B[0m\u001B[0m__getattribute__\u001B[0m\u001B[1;33m(\u001B[0m\u001B[0mself\u001B[0m\u001B[1;33m,\u001B[0m \u001B[0mname\u001B[0m\u001B[1;33m)\u001B[0m\u001B[1;33m\u001B[0m\u001B[1;33m\u001B[0m\u001B[0m\n\u001B[0m\u001B[0;32m   5488\u001B[0m \u001B[1;33m\u001B[0m\u001B[0m\n\u001B[0;32m   5489\u001B[0m     \u001B[1;32mdef\u001B[0m \u001B[0m__setattr__\u001B[0m\u001B[1;33m(\u001B[0m\u001B[0mself\u001B[0m\u001B[1;33m,\u001B[0m \u001B[0mname\u001B[0m\u001B[1;33m:\u001B[0m \u001B[0mstr\u001B[0m\u001B[1;33m,\u001B[0m \u001B[0mvalue\u001B[0m\u001B[1;33m)\u001B[0m \u001B[1;33m->\u001B[0m \u001B[1;32mNone\u001B[0m\u001B[1;33m:\u001B[0m\u001B[1;33m\u001B[0m\u001B[1;33m\u001B[0m\u001B[0m\n",
      "\u001B[1;31mAttributeError\u001B[0m: 'DataFrame' object has no attribute 'sort'"
     ]
    }
   ],
   "source": [
    "#对筛选后的数据按city列进行计数\n",
    "df_inner.loc[(df_inner['city'] != 'beijing'), ['id','city','age','category_x','gender']].sort(['id']).city.count()"
   ]
  },
  {
   "cell_type": "code",
   "execution_count": null,
   "metadata": {},
   "outputs": [],
   "source": [
    "# 还有一种筛选的方式是用query函数\n",
    "df_inner.query('city == [\"beijing\", \"shanghai\"]')"
   ]
  },
  {
   "cell_type": "code",
   "execution_count": null,
   "metadata": {},
   "outputs": [],
   "source": [
    "# 在前面的代码后增加price字段和sum函数。对筛选后的price字段 进行求和，相当于Excel中的sumifs函数的功能。\n",
    "#对筛选后的结果按price进行求和\n",
    "df_inner.query('city == [\"Beijing\", \"shanghai\"]').price.sum()"
   ]
  },
  {
   "cell_type": "code",
   "execution_count": null,
   "metadata": {},
   "outputs": [],
   "source": [
    "# Excel中使用分类汇总和数据透视可以按特定维度对数据进行汇总，Python中使用的主要函数是groupby和pivot_table。\n",
    "#分类汇总\n",
    "#对所有列进行计数汇总\n",
    "#对所有列进行计数汇总\n",
    "df_inner.groupby('city').count()"
   ]
  },
  {
   "cell_type": "code",
   "execution_count": null,
   "metadata": {},
   "outputs": [],
   "source": [
    "#对特定的ID列进行计数汇总\n",
    "df_inner.groupby('city')['id'].count()"
   ]
  },
  {
   "cell_type": "code",
   "execution_count": null,
   "metadata": {},
   "outputs": [],
   "source": [
    "#对两个字段进行汇总计数\n",
    "df_inner.groupby(['city','size'])['id'].count()"
   ]
  },
  {
   "cell_type": "code",
   "execution_count": null,
   "metadata": {},
   "outputs": [],
   "source": [
    "#对city字段进行汇总并计算price的合计和均值。\n",
    "df_inner.groupby('city')['price'].agg([len,np.sum, np.mean])"
   ]
  },
  {
   "cell_type": "code",
   "execution_count": null,
   "metadata": {},
   "outputs": [],
   "source": [
    "#设定city为行字段，size为列字段，price为值字段。\n",
    "# 分别计算price的数量和金额并且按行与列进行汇总。\n",
    "pd.pivot_table(df_inner,index=[\"city\"],values=[\"price\"],columns=[\"size\"],aggfunc=[len,np.sum],fill_value=0,margins=True)"
   ]
  },
  {
   "cell_type": "code",
   "execution_count": null,
   "metadata": {},
   "outputs": [],
   "source": [
    "# 七、数据统计\n",
    "# Python通过sample函数完成数据采样\n",
    "\n",
    "#简单的数据采样\n",
    "df_inner.sample(n=3)"
   ]
  },
  {
   "cell_type": "code",
   "execution_count": null,
   "metadata": {},
   "outputs": [],
   "source": [
    "# Weights参数是采样的权重，通过设置不同的权重可以更改采样的结果\n",
    "#手动设置采样权重\n",
    "weights = [0, 0, 0, 0, 0.5, 0.5]\n",
    "df_inner.sample(n=2, weights=weights)"
   ]
  },
  {
   "cell_type": "code",
   "execution_count": null,
   "metadata": {},
   "outputs": [],
   "source": [
    "# Sample函数中参数replace，用来设置采样后是否放回\n",
    "#采样后不放回\n",
    "df_inner.sample(n=6, replace=False)\n",
    "#采样后放回\n",
    "df_inner.sample(n=6, replace=True)"
   ]
  },
  {
   "cell_type": "code",
   "execution_count": null,
   "metadata": {},
   "outputs": [],
   "source": [
    "#描述统计\n",
    "# Python中可以通过Describe对数据进行描述统计\n",
    "#数据表描述性统计\n",
    "df_inner.describe().round(2)"
   ]
  },
  {
   "cell_type": "code",
   "execution_count": null,
   "metadata": {},
   "outputs": [],
   "source": [
    "# Python中则通过corr函数完成相关分析的操作，并返回相关系数。\n",
    "#相关性分析\n",
    "df_inner['price'].corr(df_inner['m-point'])\n",
    "\n",
    "#数据表相关性分析\n",
    "df_inner.corr()"
   ]
  },
  {
   "cell_type": "code",
   "execution_count": null,
   "metadata": {},
   "outputs": [],
   "source": [
    "#数据输出\n",
    "#写入Excel\n",
    "df_inner.to_excel('Excel_to_Python.xlsx', sheet_name='bluewhale_cc')\n",
    "df_inner"
   ]
  },
  {
   "cell_type": "code",
   "execution_count": null,
   "metadata": {},
   "outputs": [],
   "source": [
    "#输出到CSV格式\n",
    "df_inner.to_csv('Excel_to_Python.csv')"
   ]
  },
  {
   "cell_type": "code",
   "execution_count": null,
   "metadata": {},
   "outputs": [],
   "source": []
  }
 ],
 "metadata": {
  "kernelspec": {
   "display_name": "Python 3 (ipykernel)",
   "language": "python",
   "name": "python3"
  },
  "language_info": {
   "codemirror_mode": {
    "name": "ipython",
    "version": 3
   },
   "file_extension": ".py",
   "mimetype": "text/x-python",
   "name": "python",
   "nbconvert_exporter": "python",
   "pygments_lexer": "ipython3",
   "version": "3.9.7"
  }
 },
 "nbformat": 4,
 "nbformat_minor": 1
}